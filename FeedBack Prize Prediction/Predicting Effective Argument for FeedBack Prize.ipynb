{
 "cells": [
  {
   "cell_type": "code",
   "execution_count": 1,
   "id": "77d4354b",
   "metadata": {},
   "outputs": [],
   "source": [
    "import pandas as pd\n",
    "import numpy as np\n"
   ]
  },
  {
   "cell_type": "code",
   "execution_count": 2,
   "id": "87038e3b",
   "metadata": {},
   "outputs": [],
   "source": [
    "train = pd.read_csv('train.csv')\n",
    "test = pd.read_csv('test.csv')\n",
    "sample_sub = pd.read_csv('sample_submission.csv')"
   ]
  },
  {
   "cell_type": "code",
   "execution_count": 3,
   "id": "9771e80a",
   "metadata": {},
   "outputs": [
    {
     "data": {
      "text/html": [
       "<div>\n",
       "<style scoped>\n",
       "    .dataframe tbody tr th:only-of-type {\n",
       "        vertical-align: middle;\n",
       "    }\n",
       "\n",
       "    .dataframe tbody tr th {\n",
       "        vertical-align: top;\n",
       "    }\n",
       "\n",
       "    .dataframe thead th {\n",
       "        text-align: right;\n",
       "    }\n",
       "</style>\n",
       "<table border=\"1\" class=\"dataframe\">\n",
       "  <thead>\n",
       "    <tr style=\"text-align: right;\">\n",
       "      <th></th>\n",
       "      <th>discourse_id</th>\n",
       "      <th>essay_id</th>\n",
       "      <th>discourse_text</th>\n",
       "      <th>discourse_type</th>\n",
       "      <th>discourse_effectiveness</th>\n",
       "    </tr>\n",
       "  </thead>\n",
       "  <tbody>\n",
       "    <tr>\n",
       "      <th>0</th>\n",
       "      <td>0013cc385424</td>\n",
       "      <td>007ACE74B050</td>\n",
       "      <td>Hi, i'm Isaac, i'm going to be writing about h...</td>\n",
       "      <td>Lead</td>\n",
       "      <td>Adequate</td>\n",
       "    </tr>\n",
       "    <tr>\n",
       "      <th>1</th>\n",
       "      <td>9704a709b505</td>\n",
       "      <td>007ACE74B050</td>\n",
       "      <td>On my perspective, I think that the face is a ...</td>\n",
       "      <td>Position</td>\n",
       "      <td>Adequate</td>\n",
       "    </tr>\n",
       "    <tr>\n",
       "      <th>2</th>\n",
       "      <td>c22adee811b6</td>\n",
       "      <td>007ACE74B050</td>\n",
       "      <td>I think that the face is a natural landform be...</td>\n",
       "      <td>Claim</td>\n",
       "      <td>Adequate</td>\n",
       "    </tr>\n",
       "    <tr>\n",
       "      <th>3</th>\n",
       "      <td>a10d361e54e4</td>\n",
       "      <td>007ACE74B050</td>\n",
       "      <td>If life was on Mars, we would know by now. The...</td>\n",
       "      <td>Evidence</td>\n",
       "      <td>Adequate</td>\n",
       "    </tr>\n",
       "    <tr>\n",
       "      <th>4</th>\n",
       "      <td>db3e453ec4e2</td>\n",
       "      <td>007ACE74B050</td>\n",
       "      <td>People thought that the face was formed by ali...</td>\n",
       "      <td>Counterclaim</td>\n",
       "      <td>Adequate</td>\n",
       "    </tr>\n",
       "  </tbody>\n",
       "</table>\n",
       "</div>"
      ],
      "text/plain": [
       "   discourse_id      essay_id  \\\n",
       "0  0013cc385424  007ACE74B050   \n",
       "1  9704a709b505  007ACE74B050   \n",
       "2  c22adee811b6  007ACE74B050   \n",
       "3  a10d361e54e4  007ACE74B050   \n",
       "4  db3e453ec4e2  007ACE74B050   \n",
       "\n",
       "                                      discourse_text discourse_type  \\\n",
       "0  Hi, i'm Isaac, i'm going to be writing about h...           Lead   \n",
       "1  On my perspective, I think that the face is a ...       Position   \n",
       "2  I think that the face is a natural landform be...          Claim   \n",
       "3  If life was on Mars, we would know by now. The...       Evidence   \n",
       "4  People thought that the face was formed by ali...   Counterclaim   \n",
       "\n",
       "  discourse_effectiveness  \n",
       "0                Adequate  \n",
       "1                Adequate  \n",
       "2                Adequate  \n",
       "3                Adequate  \n",
       "4                Adequate  "
      ]
     },
     "execution_count": 3,
     "metadata": {},
     "output_type": "execute_result"
    }
   ],
   "source": [
    "train.head()"
   ]
  },
  {
   "cell_type": "code",
   "execution_count": 4,
   "id": "c630b8f6",
   "metadata": {},
   "outputs": [
    {
     "data": {
      "text/html": [
       "<div>\n",
       "<style scoped>\n",
       "    .dataframe tbody tr th:only-of-type {\n",
       "        vertical-align: middle;\n",
       "    }\n",
       "\n",
       "    .dataframe tbody tr th {\n",
       "        vertical-align: top;\n",
       "    }\n",
       "\n",
       "    .dataframe thead th {\n",
       "        text-align: right;\n",
       "    }\n",
       "</style>\n",
       "<table border=\"1\" class=\"dataframe\">\n",
       "  <thead>\n",
       "    <tr style=\"text-align: right;\">\n",
       "      <th></th>\n",
       "      <th>discourse_id</th>\n",
       "      <th>essay_id</th>\n",
       "      <th>discourse_text</th>\n",
       "      <th>discourse_type</th>\n",
       "    </tr>\n",
       "  </thead>\n",
       "  <tbody>\n",
       "    <tr>\n",
       "      <th>0</th>\n",
       "      <td>a261b6e14276</td>\n",
       "      <td>D72CB1C11673</td>\n",
       "      <td>Making choices in life can be very difficult. ...</td>\n",
       "      <td>Lead</td>\n",
       "    </tr>\n",
       "    <tr>\n",
       "      <th>1</th>\n",
       "      <td>5a88900e7dc1</td>\n",
       "      <td>D72CB1C11673</td>\n",
       "      <td>Seeking multiple opinions can help a person ma...</td>\n",
       "      <td>Position</td>\n",
       "    </tr>\n",
       "    <tr>\n",
       "      <th>2</th>\n",
       "      <td>9790d835736b</td>\n",
       "      <td>D72CB1C11673</td>\n",
       "      <td>it can decrease stress levels</td>\n",
       "      <td>Claim</td>\n",
       "    </tr>\n",
       "    <tr>\n",
       "      <th>3</th>\n",
       "      <td>75ce6d68b67b</td>\n",
       "      <td>D72CB1C11673</td>\n",
       "      <td>a great chance to learn something new</td>\n",
       "      <td>Claim</td>\n",
       "    </tr>\n",
       "    <tr>\n",
       "      <th>4</th>\n",
       "      <td>93578d946723</td>\n",
       "      <td>D72CB1C11673</td>\n",
       "      <td>can be very helpful and beneficial.</td>\n",
       "      <td>Claim</td>\n",
       "    </tr>\n",
       "  </tbody>\n",
       "</table>\n",
       "</div>"
      ],
      "text/plain": [
       "   discourse_id      essay_id  \\\n",
       "0  a261b6e14276  D72CB1C11673   \n",
       "1  5a88900e7dc1  D72CB1C11673   \n",
       "2  9790d835736b  D72CB1C11673   \n",
       "3  75ce6d68b67b  D72CB1C11673   \n",
       "4  93578d946723  D72CB1C11673   \n",
       "\n",
       "                                      discourse_text discourse_type  \n",
       "0  Making choices in life can be very difficult. ...           Lead  \n",
       "1  Seeking multiple opinions can help a person ma...       Position  \n",
       "2                     it can decrease stress levels           Claim  \n",
       "3             a great chance to learn something new           Claim  \n",
       "4               can be very helpful and beneficial.           Claim  "
      ]
     },
     "execution_count": 4,
     "metadata": {},
     "output_type": "execute_result"
    }
   ],
   "source": [
    "test.head()"
   ]
  },
  {
   "cell_type": "code",
   "execution_count": 5,
   "id": "8657f745",
   "metadata": {},
   "outputs": [
    {
     "data": {
      "text/html": [
       "<div>\n",
       "<style scoped>\n",
       "    .dataframe tbody tr th:only-of-type {\n",
       "        vertical-align: middle;\n",
       "    }\n",
       "\n",
       "    .dataframe tbody tr th {\n",
       "        vertical-align: top;\n",
       "    }\n",
       "\n",
       "    .dataframe thead th {\n",
       "        text-align: right;\n",
       "    }\n",
       "</style>\n",
       "<table border=\"1\" class=\"dataframe\">\n",
       "  <thead>\n",
       "    <tr style=\"text-align: right;\">\n",
       "      <th></th>\n",
       "      <th>discourse_id</th>\n",
       "      <th>Ineffective</th>\n",
       "      <th>Adequate</th>\n",
       "      <th>Effective</th>\n",
       "    </tr>\n",
       "  </thead>\n",
       "  <tbody>\n",
       "    <tr>\n",
       "      <th>0</th>\n",
       "      <td>a261b6e14276</td>\n",
       "      <td>0.20</td>\n",
       "      <td>0.60</td>\n",
       "      <td>0.40</td>\n",
       "    </tr>\n",
       "    <tr>\n",
       "      <th>1</th>\n",
       "      <td>5a88900e7dc1</td>\n",
       "      <td>3.00</td>\n",
       "      <td>6.00</td>\n",
       "      <td>1.00</td>\n",
       "    </tr>\n",
       "    <tr>\n",
       "      <th>2</th>\n",
       "      <td>9790d835736b</td>\n",
       "      <td>1.00</td>\n",
       "      <td>2.00</td>\n",
       "      <td>3.00</td>\n",
       "    </tr>\n",
       "    <tr>\n",
       "      <th>3</th>\n",
       "      <td>75ce6d68b67b</td>\n",
       "      <td>0.33</td>\n",
       "      <td>0.34</td>\n",
       "      <td>0.33</td>\n",
       "    </tr>\n",
       "    <tr>\n",
       "      <th>4</th>\n",
       "      <td>93578d946723</td>\n",
       "      <td>0.01</td>\n",
       "      <td>0.24</td>\n",
       "      <td>0.47</td>\n",
       "    </tr>\n",
       "  </tbody>\n",
       "</table>\n",
       "</div>"
      ],
      "text/plain": [
       "   discourse_id  Ineffective  Adequate  Effective\n",
       "0  a261b6e14276         0.20      0.60       0.40\n",
       "1  5a88900e7dc1         3.00      6.00       1.00\n",
       "2  9790d835736b         1.00      2.00       3.00\n",
       "3  75ce6d68b67b         0.33      0.34       0.33\n",
       "4  93578d946723         0.01      0.24       0.47"
      ]
     },
     "execution_count": 5,
     "metadata": {},
     "output_type": "execute_result"
    }
   ],
   "source": [
    "sample_sub.head()"
   ]
  },
  {
   "cell_type": "code",
   "execution_count": 6,
   "id": "1a24177b",
   "metadata": {},
   "outputs": [],
   "source": [
    "train[\"discourse_effectiveness\"].replace(\"Effective\",value=1,inplace = True)\n",
    "train[\"discourse_effectiveness\"].replace(\"Adequate\",value=2,inplace = True)\n",
    "train[\"discourse_effectiveness\"].replace(\"Ineffective\",value=3,inplace = True)\n"
   ]
  },
  {
   "cell_type": "code",
   "execution_count": 7,
   "id": "92eb1c97",
   "metadata": {},
   "outputs": [
    {
     "data": {
      "text/html": [
       "<div>\n",
       "<style scoped>\n",
       "    .dataframe tbody tr th:only-of-type {\n",
       "        vertical-align: middle;\n",
       "    }\n",
       "\n",
       "    .dataframe tbody tr th {\n",
       "        vertical-align: top;\n",
       "    }\n",
       "\n",
       "    .dataframe thead th {\n",
       "        text-align: right;\n",
       "    }\n",
       "</style>\n",
       "<table border=\"1\" class=\"dataframe\">\n",
       "  <thead>\n",
       "    <tr style=\"text-align: right;\">\n",
       "      <th></th>\n",
       "      <th>discourse_id</th>\n",
       "      <th>essay_id</th>\n",
       "      <th>discourse_text</th>\n",
       "      <th>discourse_type</th>\n",
       "      <th>discourse_effectiveness</th>\n",
       "    </tr>\n",
       "  </thead>\n",
       "  <tbody>\n",
       "    <tr>\n",
       "      <th>0</th>\n",
       "      <td>0013cc385424</td>\n",
       "      <td>007ACE74B050</td>\n",
       "      <td>Hi, i'm Isaac, i'm going to be writing about h...</td>\n",
       "      <td>Lead</td>\n",
       "      <td>2</td>\n",
       "    </tr>\n",
       "    <tr>\n",
       "      <th>1</th>\n",
       "      <td>9704a709b505</td>\n",
       "      <td>007ACE74B050</td>\n",
       "      <td>On my perspective, I think that the face is a ...</td>\n",
       "      <td>Position</td>\n",
       "      <td>2</td>\n",
       "    </tr>\n",
       "    <tr>\n",
       "      <th>2</th>\n",
       "      <td>c22adee811b6</td>\n",
       "      <td>007ACE74B050</td>\n",
       "      <td>I think that the face is a natural landform be...</td>\n",
       "      <td>Claim</td>\n",
       "      <td>2</td>\n",
       "    </tr>\n",
       "    <tr>\n",
       "      <th>3</th>\n",
       "      <td>a10d361e54e4</td>\n",
       "      <td>007ACE74B050</td>\n",
       "      <td>If life was on Mars, we would know by now. The...</td>\n",
       "      <td>Evidence</td>\n",
       "      <td>2</td>\n",
       "    </tr>\n",
       "    <tr>\n",
       "      <th>4</th>\n",
       "      <td>db3e453ec4e2</td>\n",
       "      <td>007ACE74B050</td>\n",
       "      <td>People thought that the face was formed by ali...</td>\n",
       "      <td>Counterclaim</td>\n",
       "      <td>2</td>\n",
       "    </tr>\n",
       "  </tbody>\n",
       "</table>\n",
       "</div>"
      ],
      "text/plain": [
       "   discourse_id      essay_id  \\\n",
       "0  0013cc385424  007ACE74B050   \n",
       "1  9704a709b505  007ACE74B050   \n",
       "2  c22adee811b6  007ACE74B050   \n",
       "3  a10d361e54e4  007ACE74B050   \n",
       "4  db3e453ec4e2  007ACE74B050   \n",
       "\n",
       "                                      discourse_text discourse_type  \\\n",
       "0  Hi, i'm Isaac, i'm going to be writing about h...           Lead   \n",
       "1  On my perspective, I think that the face is a ...       Position   \n",
       "2  I think that the face is a natural landform be...          Claim   \n",
       "3  If life was on Mars, we would know by now. The...       Evidence   \n",
       "4  People thought that the face was formed by ali...   Counterclaim   \n",
       "\n",
       "   discourse_effectiveness  \n",
       "0                        2  \n",
       "1                        2  \n",
       "2                        2  \n",
       "3                        2  \n",
       "4                        2  "
      ]
     },
     "execution_count": 7,
     "metadata": {},
     "output_type": "execute_result"
    }
   ],
   "source": [
    "train.head()"
   ]
  },
  {
   "cell_type": "code",
   "execution_count": 8,
   "id": "095ef0ee",
   "metadata": {},
   "outputs": [
    {
     "name": "stderr",
     "output_type": "stream",
     "text": [
      "C:\\Users\\devan\\AppData\\Local\\Temp/ipykernel_14632/558018210.py:2: FutureWarning: The frame.append method is deprecated and will be removed from pandas in a future version. Use pandas.concat instead.\n",
      "  train_test = train.drop([\"discourse_effectiveness\"],axis=1).append(test)\n"
     ]
    }
   ],
   "source": [
    "target = train[\"discourse_effectiveness\"]\n",
    "train_test = train.drop([\"discourse_effectiveness\"],axis=1).append(test)"
   ]
  },
  {
   "cell_type": "code",
   "execution_count": 9,
   "id": "d9a42175",
   "metadata": {},
   "outputs": [
    {
     "data": {
      "text/html": [
       "<div>\n",
       "<style scoped>\n",
       "    .dataframe tbody tr th:only-of-type {\n",
       "        vertical-align: middle;\n",
       "    }\n",
       "\n",
       "    .dataframe tbody tr th {\n",
       "        vertical-align: top;\n",
       "    }\n",
       "\n",
       "    .dataframe thead th {\n",
       "        text-align: right;\n",
       "    }\n",
       "</style>\n",
       "<table border=\"1\" class=\"dataframe\">\n",
       "  <thead>\n",
       "    <tr style=\"text-align: right;\">\n",
       "      <th></th>\n",
       "      <th>discourse_id</th>\n",
       "      <th>essay_id</th>\n",
       "      <th>discourse_text</th>\n",
       "      <th>discourse_type</th>\n",
       "    </tr>\n",
       "  </thead>\n",
       "  <tbody>\n",
       "    <tr>\n",
       "      <th>0</th>\n",
       "      <td>0013cc385424</td>\n",
       "      <td>007ACE74B050</td>\n",
       "      <td>Hi, i'm Isaac, i'm going to be writing about h...</td>\n",
       "      <td>Lead</td>\n",
       "    </tr>\n",
       "    <tr>\n",
       "      <th>1</th>\n",
       "      <td>9704a709b505</td>\n",
       "      <td>007ACE74B050</td>\n",
       "      <td>On my perspective, I think that the face is a ...</td>\n",
       "      <td>Position</td>\n",
       "    </tr>\n",
       "    <tr>\n",
       "      <th>2</th>\n",
       "      <td>c22adee811b6</td>\n",
       "      <td>007ACE74B050</td>\n",
       "      <td>I think that the face is a natural landform be...</td>\n",
       "      <td>Claim</td>\n",
       "    </tr>\n",
       "    <tr>\n",
       "      <th>3</th>\n",
       "      <td>a10d361e54e4</td>\n",
       "      <td>007ACE74B050</td>\n",
       "      <td>If life was on Mars, we would know by now. The...</td>\n",
       "      <td>Evidence</td>\n",
       "    </tr>\n",
       "    <tr>\n",
       "      <th>4</th>\n",
       "      <td>db3e453ec4e2</td>\n",
       "      <td>007ACE74B050</td>\n",
       "      <td>People thought that the face was formed by ali...</td>\n",
       "      <td>Counterclaim</td>\n",
       "    </tr>\n",
       "    <tr>\n",
       "      <th>...</th>\n",
       "      <td>...</td>\n",
       "      <td>...</td>\n",
       "      <td>...</td>\n",
       "      <td>...</td>\n",
       "    </tr>\n",
       "    <tr>\n",
       "      <th>5</th>\n",
       "      <td>2e214524dbe3</td>\n",
       "      <td>D72CB1C11673</td>\n",
       "      <td>When making a decision there is a chance that ...</td>\n",
       "      <td>Evidence</td>\n",
       "    </tr>\n",
       "    <tr>\n",
       "      <th>6</th>\n",
       "      <td>84812fc2ab9f</td>\n",
       "      <td>D72CB1C11673</td>\n",
       "      <td>Everyone is different and may have more experi...</td>\n",
       "      <td>Evidence</td>\n",
       "    </tr>\n",
       "    <tr>\n",
       "      <th>7</th>\n",
       "      <td>c668ff840720</td>\n",
       "      <td>D72CB1C11673</td>\n",
       "      <td>Seeking others opinion can be very helpful and...</td>\n",
       "      <td>Claim</td>\n",
       "    </tr>\n",
       "    <tr>\n",
       "      <th>8</th>\n",
       "      <td>739a6d00f44a</td>\n",
       "      <td>D72CB1C11673</td>\n",
       "      <td>Taking other peoples advice and doing what the...</td>\n",
       "      <td>Evidence</td>\n",
       "    </tr>\n",
       "    <tr>\n",
       "      <th>9</th>\n",
       "      <td>bcfae2c9a244</td>\n",
       "      <td>D72CB1C11673</td>\n",
       "      <td>You can learn from others experiences by seeki...</td>\n",
       "      <td>Concluding Statement</td>\n",
       "    </tr>\n",
       "  </tbody>\n",
       "</table>\n",
       "<p>36775 rows × 4 columns</p>\n",
       "</div>"
      ],
      "text/plain": [
       "    discourse_id      essay_id  \\\n",
       "0   0013cc385424  007ACE74B050   \n",
       "1   9704a709b505  007ACE74B050   \n",
       "2   c22adee811b6  007ACE74B050   \n",
       "3   a10d361e54e4  007ACE74B050   \n",
       "4   db3e453ec4e2  007ACE74B050   \n",
       "..           ...           ...   \n",
       "5   2e214524dbe3  D72CB1C11673   \n",
       "6   84812fc2ab9f  D72CB1C11673   \n",
       "7   c668ff840720  D72CB1C11673   \n",
       "8   739a6d00f44a  D72CB1C11673   \n",
       "9   bcfae2c9a244  D72CB1C11673   \n",
       "\n",
       "                                       discourse_text        discourse_type  \n",
       "0   Hi, i'm Isaac, i'm going to be writing about h...                  Lead  \n",
       "1   On my perspective, I think that the face is a ...              Position  \n",
       "2   I think that the face is a natural landform be...                 Claim  \n",
       "3   If life was on Mars, we would know by now. The...              Evidence  \n",
       "4   People thought that the face was formed by ali...          Counterclaim  \n",
       "..                                                ...                   ...  \n",
       "5   When making a decision there is a chance that ...              Evidence  \n",
       "6   Everyone is different and may have more experi...              Evidence  \n",
       "7   Seeking others opinion can be very helpful and...                 Claim  \n",
       "8   Taking other peoples advice and doing what the...              Evidence  \n",
       "9   You can learn from others experiences by seeki...  Concluding Statement  \n",
       "\n",
       "[36775 rows x 4 columns]"
      ]
     },
     "execution_count": 9,
     "metadata": {},
     "output_type": "execute_result"
    }
   ],
   "source": [
    "train_test"
   ]
  },
  {
   "cell_type": "code",
   "execution_count": 10,
   "id": "81e7dc8b",
   "metadata": {},
   "outputs": [],
   "source": [
    "text = train_test[\"discourse_text\"] + train_test[\"discourse_type\"]"
   ]
  },
  {
   "cell_type": "code",
   "execution_count": 11,
   "id": "ea699086",
   "metadata": {},
   "outputs": [
    {
     "data": {
      "text/plain": [
       "0    Hi, i'm Isaac, i'm going to be writing about h...\n",
       "1    On my perspective, I think that the face is a ...\n",
       "2    I think that the face is a natural landform be...\n",
       "dtype: object"
      ]
     },
     "execution_count": 11,
     "metadata": {},
     "output_type": "execute_result"
    }
   ],
   "source": [
    "text.head(3)"
   ]
  },
  {
   "cell_type": "code",
   "execution_count": 12,
   "id": "06676864",
   "metadata": {},
   "outputs": [],
   "source": [
    "text = text.apply(lambda x:\" \".join(x.lower() for x in x.split()))"
   ]
  },
  {
   "cell_type": "code",
   "execution_count": 13,
   "id": "4198bd7d",
   "metadata": {},
   "outputs": [
    {
     "name": "stderr",
     "output_type": "stream",
     "text": [
      "C:\\Users\\devan\\AppData\\Local\\Temp/ipykernel_14632/2434945836.py:1: FutureWarning: The default value of regex will change from True to False in a future version.\n",
      "  text = text.str.replace('[^\\w\\s]','')\n"
     ]
    }
   ],
   "source": [
    "text = text.str.replace('[^\\w\\s]','')"
   ]
  },
  {
   "cell_type": "code",
   "execution_count": 14,
   "id": "daec8406",
   "metadata": {},
   "outputs": [
    {
     "name": "stderr",
     "output_type": "stream",
     "text": [
      "C:\\Users\\devan\\AppData\\Local\\Temp/ipykernel_14632/3498564293.py:1: FutureWarning: The default value of regex will change from True to False in a future version.\n",
      "  text = text.str.replace('\\d','')\n"
     ]
    }
   ],
   "source": [
    "text = text.str.replace('\\d','')"
   ]
  },
  {
   "cell_type": "code",
   "execution_count": 15,
   "id": "82be3814",
   "metadata": {},
   "outputs": [
    {
     "data": {
      "text/plain": [
       "0    hi im isaac im going to be writing about how t...\n",
       "1    on my perspective i think that the face is a n...\n",
       "2    i think that the face is a natural landform be...\n",
       "3    if life was on mars we would know by now the r...\n",
       "4    people thought that the face was formed by ali...\n",
       "                           ...                        \n",
       "5    when making a decision there is a chance that ...\n",
       "6    everyone is different and may have more experi...\n",
       "7    seeking others opinion can be very helpful and...\n",
       "8    taking other peoples advice and doing what the...\n",
       "9    you can learn from others experiences by seeki...\n",
       "Length: 36775, dtype: object"
      ]
     },
     "execution_count": 15,
     "metadata": {},
     "output_type": "execute_result"
    }
   ],
   "source": [
    "text"
   ]
  },
  {
   "cell_type": "code",
   "execution_count": 16,
   "id": "ab2e6c01",
   "metadata": {},
   "outputs": [],
   "source": [
    "# Remove Stopwords\n",
    "import nltk\n",
    "from nltk.corpus import stopwords\n",
    "sw = stopwords.words('english')"
   ]
  },
  {
   "cell_type": "code",
   "execution_count": 17,
   "id": "8fbbe861",
   "metadata": {},
   "outputs": [],
   "source": [
    "text = text.apply(lambda x:\" \".join(x for x in x.split() if x not in sw))"
   ]
  },
  {
   "cell_type": "code",
   "execution_count": 18,
   "id": "883f61d5",
   "metadata": {},
   "outputs": [],
   "source": [
    "#remove infrequent words\n",
    "remove = pd.Series(' '.join(text).split()).value_counts()[-1000:]\n",
    "text = text.apply(lambda x: \" \".join(x for x in x.split() if x not in remove))"
   ]
  },
  {
   "cell_type": "code",
   "execution_count": 20,
   "id": "ec755ce4",
   "metadata": {},
   "outputs": [
    {
     "name": "stderr",
     "output_type": "stream",
     "text": [
      "[nltk_data] Downloading package wordnet to\n",
      "[nltk_data]     C:\\Users\\devan\\AppData\\Roaming\\nltk_data...\n",
      "[nltk_data]   Package wordnet is already up-to-date!\n",
      "[nltk_data] Downloading package omw-1.4 to\n",
      "[nltk_data]     C:\\Users\\devan\\AppData\\Roaming\\nltk_data...\n",
      "[nltk_data]   Unzipping corpora\\omw-1.4.zip.\n"
     ]
    }
   ],
   "source": [
    "#lemmatization\n",
    "nltk.download('wordnet')\n",
    "nltk.download('omw-1.4')\n",
    "from nltk.stem import WordNetLemmatizer\n",
    "lemma = WordNetLemmatizer()\n",
    "text = text.apply(lambda x: \" \".join([lemma.lemmatize(word) for word in x.split()]))"
   ]
  },
  {
   "cell_type": "code",
   "execution_count": 21,
   "id": "1592047a",
   "metadata": {},
   "outputs": [
    {
     "data": {
      "text/plain": [
       "0    hi im isaac im going writing face mar natural ...\n",
       "1    perspective think face natural landform dont t...\n",
       "2    think face natural landform life mar descovere...\n",
       "3    life mar would know reason think natural landf...\n",
       "4    people thought face formed alieans thought lif...\n",
       "                           ...                        \n",
       "5    making decision chance become stressed overwhe...\n",
       "6    everyone different may experience seeking peop...\n",
       "7      seeking others opinion helpful beneficial claim\n",
       "8    taking people advice say may lead great outcom...\n",
       "9    learn others experience seeking advice someone...\n",
       "Length: 36775, dtype: object"
      ]
     },
     "execution_count": 21,
     "metadata": {},
     "output_type": "execute_result"
    }
   ],
   "source": [
    "text"
   ]
  },
  {
   "cell_type": "code",
   "execution_count": 24,
   "id": "9248cb43",
   "metadata": {},
   "outputs": [],
   "source": [
    "#remove words less than two characters\n",
    "import re\n",
    "text = text.apply(lambda x: ' '.join([w for w in x.split() if len(w) > 2]))\n",
    "\n",
    "\n",
    "#remove special characters and numbers\n",
    "text = text.apply(lambda x : re.sub(\"[^a-z\\s]\",\"\", x))"
   ]
  },
  {
   "cell_type": "code",
   "execution_count": 26,
   "id": "2c71eec2",
   "metadata": {},
   "outputs": [
    {
     "name": "stdout",
     "output_type": "stream",
     "text": [
      "0    isaac going writing face mar natural landform ...\n",
      "1    perspective think face natural landform dont t...\n",
      "2    think face natural landform life mar descovere...\n",
      "3    life mar would know reason think natural landf...\n",
      "4    people thought face formed alieans thought lif...\n",
      "                           ...                        \n",
      "5    making decision chance become stressed overwhe...\n",
      "6    everyone different may experience seeking peop...\n",
      "7      seeking others opinion helpful beneficial claim\n",
      "8    taking people advice say may lead great outcom...\n",
      "9    learn others experience seeking advice someone...\n",
      "Length: 36775, dtype: object\n"
     ]
    }
   ],
   "source": [
    "text = pd.Series(text)\n",
    "print(text)"
   ]
  },
  {
   "cell_type": "code",
   "execution_count": 27,
   "id": "4bdee7d9",
   "metadata": {},
   "outputs": [
    {
     "data": {
      "text/plain": [
       "pandas.core.series.Series"
      ]
     },
     "execution_count": 27,
     "metadata": {},
     "output_type": "execute_result"
    }
   ],
   "source": [
    "type(text)"
   ]
  },
  {
   "cell_type": "code",
   "execution_count": 28,
   "id": "3a155307",
   "metadata": {},
   "outputs": [
    {
     "data": {
      "text/plain": [
       "0    isaac going writing face mar natural landform ...\n",
       "1    perspective think face natural landform dont t...\n",
       "2    think face natural landform life mar descovere...\n",
       "3    life mar would know reason think natural landf...\n",
       "4    people thought face formed alieans thought lif...\n",
       "dtype: object"
      ]
     },
     "execution_count": 28,
     "metadata": {},
     "output_type": "execute_result"
    }
   ],
   "source": [
    "apostrophes = {\n",
    "\"ain't\": \"am not / are not\",\n",
    "\"aren't\": \"are not / am not\",\n",
    "\"can't\": \"cannot\",\n",
    "\"can't've\": \"cannot have\",\n",
    "\"'cause\": \"because\",\n",
    "\"could've\": \"could have\",\n",
    "\"couldn't\": \"could not\",\n",
    "\"couldn't've\": \"could not have\",\n",
    "\"didn't\": \"did not\",\n",
    "\"doesn't\": \"does not\",\n",
    "\"don't\": \"do not\",\n",
    "\"hadn't\": \"had not\",\n",
    "\"hadn't've\": \"had not have\",\n",
    "\"hasn't\": \"has not\",\n",
    "\"haven't\": \"have not\",\n",
    "\"he'd\": \"he had / he would\",\n",
    "\"he'd've\": \"he would have\",\n",
    "\"he'll\": \"he shall / he will\",\n",
    "\"he'll've\": \"he shall have / he will have\",\n",
    "\"he's\": \"he has / he is\",\n",
    "\"how'd\": \"how did\",\n",
    "\"how'd'y\": \"how do you\",\n",
    "\"how'll\": \"how will\",\n",
    "\"how's\": \"how has / how is\",\n",
    "\"i'd\": \"I had / I would\",\n",
    "\"i'd've\": \"I would have\",\n",
    "\"i'll\": \"I shall / I will\",\n",
    "\"i'll've\": \"I shall have / I will have\",\n",
    "\"i'm\": \"I am\",\n",
    "\"i've\": \"I have\",\n",
    "\"isn't\": \"is not\",\n",
    "\"it'd\": \"it had / it would\",\n",
    "\"it'd've\": \"it would have\",\n",
    "\"it'll\": \"it shall / it will\",\n",
    "\"it'll've\": \"it shall have / it will have\",\n",
    "\"it's\": \"it has / it is\",\n",
    "\"let's\": \"let us\",\n",
    "\"ma'am\": \"madam\",\n",
    "\"mayn't\": \"may not\",\n",
    "\"might've\": \"might have\",\n",
    "\"mightn't\": \"might not\",\n",
    "\"mightn't've\": \"might not have\",\n",
    "\"must've\": \"must have\",\n",
    "\"mustn't\": \"must not\",\n",
    "\"mustn't've\": \"must not have\",\n",
    "\"needn't\": \"need not\",\n",
    "\"needn't've\": \"need not have\",\n",
    "\"o'clock\": \"of the clock\",\n",
    "\"oughtn't\": \"ought not\",\n",
    "\"oughtn't've\": \"ought not have\",\n",
    "\"shan't\": \"shall not\",\n",
    "\"sha'n't\": \"shall not\",\n",
    "\"shan't've\": \"shall not have\",\n",
    "\"she'd\": \"she had / she would\",\n",
    "\"she'd've\": \"she would have\",\n",
    "\"she'll\": \"she shall / she will\",\n",
    "\"she'll've\": \"she shall have / she will have\",\n",
    "\"she's\": \"she has / she is\",\n",
    "\"should've\": \"should have\",\n",
    "\"shouldn't\": \"should not\",\n",
    "\"shouldn't've\": \"should not have\",\n",
    "\"so've\": \"so have\",\n",
    "\"so's\": \"so as / so is\",\n",
    "\"that'd\": \"that would / that had\",\n",
    "\"that'd've\": \"that would have\",\n",
    "\"that's\": \"that has / that is\",\n",
    "\"there'd\": \"there had / there would\",\n",
    "\"there'd've\": \"there would have\",\n",
    "\"there's\": \"there has / there is\",\n",
    "\"they'd\": \"they had / they would\",\n",
    "\"they'd've\": \"they would have\",\n",
    "\"they'll\": \"they shall / they will\",\n",
    "\"they'll've\": \"they shall have / they will have\",\n",
    "\"they're\": \"they are\",\n",
    "\"they've\": \"they have\",\n",
    "\"to've\": \"to have\",\n",
    "\"wasn't\": \"was not\",\n",
    "\"we'd\": \"we had / we would\",\n",
    "\"we'd've\": \"we would have\",\n",
    "\"we'll\": \"we will\",\n",
    "\"we'll've\": \"we will have\",\n",
    "\"we're\": \"we are\",\n",
    "\"we've\": \"we have\",\n",
    "\"weren't\": \"were not\",\n",
    "\"what'll\": \"what shall / what will\",\n",
    "\"what'll've\": \"what shall have / what will have\",\n",
    "\"what're\": \"what are\",\n",
    "\"what's\": \"what has / what is\",\n",
    "\"what've\": \"what have\",\n",
    "\"when's\": \"when has / when is\",\n",
    "\"when've\": \"when have\",\n",
    "\"where'd\": \"where did\",\n",
    "\"where's\": \"where has / where is\",\n",
    "\"where've\": \"where have\",\n",
    "\"who'll\": \"who shall / who will\",\n",
    "\"who'll've\": \"who shall have / who will have\",\n",
    "\"who's\": \"who has / who is\",\n",
    "\"who've\": \"who have\",\n",
    "\"why's\": \"why has / why is\",\n",
    "\"why've\": \"why have\",\n",
    "\"will've\": \"will have\",\n",
    "\"won't\": \"will not\",\n",
    "\"won't've\": \"will not have\",\n",
    "\"would've\": \"would have\",\n",
    "\"wouldn't\": \"would not\",\n",
    "\"wouldn't've\": \"would not have\",\n",
    "\"y'all\": \"you all\",\n",
    "\"y'all'd\": \"you all would\",\n",
    "\"y'all'd've\": \"you all would have\",\n",
    "\"y'all're\": \"you all are\",\n",
    "\"y'all've\": \"you all have\",\n",
    "\"you'd\": \"you had / you would\",\n",
    "\"you'd've\": \"you would have\",\n",
    "\"you'll\": \"you shall / you will\",\n",
    "\"you'll've\": \"you shall have / you will have\",\n",
    "\"you're\": \"you are\",\n",
    "\"you've\": \"you have\"\n",
    "}\n",
    "\n",
    "def look_at_dict(txt, dictionary):\n",
    "    for word in txt.split():\n",
    "        if word.lower() in dictionary:\n",
    "            if word.lower() in txt.split():\n",
    "                txt = txt.replace(word, dictionary[word.lower()])\n",
    "    return txt\n",
    "\n",
    "text = text.apply(lambda x: look_at_dict(x, apostrophes))\n",
    "\n",
    "text.head()"
   ]
  },
  {
   "cell_type": "code",
   "execution_count": 29,
   "id": "8495bd4d",
   "metadata": {},
   "outputs": [],
   "source": [
    "#Spllitting the Dataset\n",
    "x_train = text[:len(train)]\n",
    "y_train = pd.get_dummies(target)\n",
    "x_test = text[len(train):]"
   ]
  },
  {
   "cell_type": "code",
   "execution_count": 30,
   "id": "31acdb02",
   "metadata": {},
   "outputs": [
    {
     "data": {
      "text/html": [
       "<div>\n",
       "<style scoped>\n",
       "    .dataframe tbody tr th:only-of-type {\n",
       "        vertical-align: middle;\n",
       "    }\n",
       "\n",
       "    .dataframe tbody tr th {\n",
       "        vertical-align: top;\n",
       "    }\n",
       "\n",
       "    .dataframe thead th {\n",
       "        text-align: right;\n",
       "    }\n",
       "</style>\n",
       "<table border=\"1\" class=\"dataframe\">\n",
       "  <thead>\n",
       "    <tr style=\"text-align: right;\">\n",
       "      <th></th>\n",
       "      <th>1</th>\n",
       "      <th>2</th>\n",
       "      <th>3</th>\n",
       "    </tr>\n",
       "  </thead>\n",
       "  <tbody>\n",
       "    <tr>\n",
       "      <th>0</th>\n",
       "      <td>0</td>\n",
       "      <td>1</td>\n",
       "      <td>0</td>\n",
       "    </tr>\n",
       "    <tr>\n",
       "      <th>1</th>\n",
       "      <td>0</td>\n",
       "      <td>1</td>\n",
       "      <td>0</td>\n",
       "    </tr>\n",
       "    <tr>\n",
       "      <th>2</th>\n",
       "      <td>0</td>\n",
       "      <td>1</td>\n",
       "      <td>0</td>\n",
       "    </tr>\n",
       "    <tr>\n",
       "      <th>3</th>\n",
       "      <td>0</td>\n",
       "      <td>1</td>\n",
       "      <td>0</td>\n",
       "    </tr>\n",
       "    <tr>\n",
       "      <th>4</th>\n",
       "      <td>0</td>\n",
       "      <td>1</td>\n",
       "      <td>0</td>\n",
       "    </tr>\n",
       "  </tbody>\n",
       "</table>\n",
       "</div>"
      ],
      "text/plain": [
       "   1  2  3\n",
       "0  0  1  0\n",
       "1  0  1  0\n",
       "2  0  1  0\n",
       "3  0  1  0\n",
       "4  0  1  0"
      ]
     },
     "execution_count": 30,
     "metadata": {},
     "output_type": "execute_result"
    }
   ],
   "source": [
    "y_train.head()"
   ]
  },
  {
   "cell_type": "code",
   "execution_count": 36,
   "id": "42eaefea",
   "metadata": {},
   "outputs": [],
   "source": [
    "# Tfidf Vectorizer Operation\n",
    "from sklearn.feature_extraction.text import TfidfVectorizer\n",
    "vectorizer_tfid = TfidfVectorizer(stop_words='english',max_df=0.5,min_df=0.01)\n",
    "x_train = np.array(x_train).tolist()\n",
    "x_train = list(map(''.join,x_train))\n",
    "x_test = np.array(x_test).tolist()\n",
    "x_test = list(map(''.join,x_test))\n",
    "vectorizer_tfid.fit(x_train)\n",
    "x_train_tfidf = vectorizer_tfid.transform(x_train)\n",
    "x_test_tfidf = vectorizer_tfid.transform(x_test)"
   ]
  },
  {
   "cell_type": "code",
   "execution_count": 39,
   "id": "446a01d4",
   "metadata": {},
   "outputs": [
    {
     "name": "stdout",
     "output_type": "stream",
     "text": [
      "  (0, 192)\t0.13568045484331487\n",
      "  (0, 190)\t0.15826813245736465\n",
      "  (0, 170)\t0.3277042043902158\n",
      "  (0, 169)\t0.30206869186094915\n",
      "  (0, 161)\t0.5620668575093272\n",
      "  (0, 150)\t0.24213090900511658\n",
      "  (0, 145)\t0.1122039792002062\n",
      "  (0, 144)\t0.4800639083903705\n",
      "  (0, 142)\t0.10956870517990737\n",
      "  (0, 116)\t0.1255538962228245\n",
      "  (0, 99)\t0.24424992463445022\n",
      "  (0, 77)\t0.15516297250174782\n",
      "  (0, 65)\t0.16972388759353008\n",
      "  (1, 256)\t0.47203943592013786\n",
      "  (1, 197)\t0.15972627148689245\n",
      "  (1, 180)\t0.2503661762214377\n",
      "  (1, 170)\t0.5226541871330594\n",
      "  (1, 161)\t0.22410957243637172\n",
      "  (1, 150)\t0.19308683216521524\n",
      "  (1, 144)\t0.5104347324005626\n",
      "  (1, 99)\t0.19477663714243923\n",
      "  (1, 78)\t0.1727034683469549\n",
      "  (2, 256)\t0.28984671051536015\n",
      "  (2, 170)\t0.48138858329379036\n",
      "  (2, 161)\t0.41283048039661674\n",
      "  :\t:\n",
      "  (36762, 6)\t0.5559714541312658\n",
      "  (36763, 277)\t0.3188743222879825\n",
      "  (36763, 268)\t0.3654321825126899\n",
      "  (36763, 256)\t0.1925233873917097\n",
      "  (36763, 255)\t0.10375553329651499\n",
      "  (36763, 220)\t0.1451484511458841\n",
      "  (36763, 187)\t0.24691893899592998\n",
      "  (36763, 185)\t0.3191257533137414\n",
      "  (36763, 176)\t0.3979285284233698\n",
      "  (36763, 159)\t0.09731027943137395\n",
      "  (36763, 156)\t0.13707914876005808\n",
      "  (36763, 142)\t0.10690928395562416\n",
      "  (36763, 126)\t0.09970420330139403\n",
      "  (36763, 124)\t0.1567465261330677\n",
      "  (36763, 94)\t0.06410667180050926\n",
      "  (36763, 29)\t0.22900409115414683\n",
      "  (36763, 24)\t0.16839901805109064\n",
      "  (36763, 15)\t0.4404223887209716\n",
      "  (36763, 6)\t0.14710539318601207\n",
      "  (36764, 236)\t0.2996858269916337\n",
      "  (36764, 176)\t0.38599239080191367\n",
      "  (36764, 57)\t0.4626328345107901\n",
      "  (36764, 56)\t0.3022476220695565\n",
      "  (36764, 26)\t0.47464274546332325\n",
      "  (36764, 16)\t0.4801351673312555\n"
     ]
    }
   ],
   "source": [
    "print(x_train_tfidf)"
   ]
  },
  {
   "cell_type": "code",
   "execution_count": 40,
   "id": "ae54234b",
   "metadata": {},
   "outputs": [
    {
     "name": "stdout",
     "output_type": "stream",
     "text": [
      "  (0, 255)\t0.13553992380790347\n",
      "  (0, 185)\t0.10422162297038946\n",
      "  (0, 176)\t0.1732765495643733\n",
      "  (0, 168)\t0.19822821595769236\n",
      "  (0, 160)\t0.3586385335385764\n",
      "  (0, 159)\t0.12712023581586887\n",
      "  (0, 150)\t0.15431391809875994\n",
      "  (0, 145)\t0.1430187969623465\n",
      "  (0, 117)\t0.14403271748600202\n",
      "  (0, 69)\t0.21407462633953814\n",
      "  (0, 44)\t0.5663881308965669\n",
      "  (0, 28)\t0.17376722786898957\n",
      "  (0, 15)\t0.3835606970469587\n",
      "  (0, 6)\t0.384339093071453\n",
      "  (1, 197)\t0.2834849231664361\n",
      "  (1, 187)\t0.35816368376381924\n",
      "  (1, 176)\t0.3848052271577786\n",
      "  (1, 168)\t0.4402168317781674\n",
      "  (1, 159)\t0.2823032392003109\n",
      "  (1, 126)\t0.28924816286978017\n",
      "  (1, 44)\t0.4192702627044438\n",
      "  (1, 29)\t0.3321776337541555\n",
      "  (2, 239)\t0.9322380924072776\n",
      "  (2, 47)\t0.3618454629601428\n",
      "  (3, 173)\t0.43842035824697173\n",
      "  :\t:\n",
      "  (8, 142)\t0.12272106419607219\n",
      "  (8, 121)\t0.1914596084099991\n",
      "  (8, 120)\t0.16338403206705002\n",
      "  (8, 117)\t0.1265636165753895\n",
      "  (8, 95)\t0.14656179698556535\n",
      "  (8, 94)\t0.07358798688327534\n",
      "  (8, 75)\t0.2981254316719638\n",
      "  (8, 40)\t0.18525779912247867\n",
      "  (8, 23)\t0.16233392999762777\n",
      "  (8, 6)\t0.33772427861854215\n",
      "  (8, 0)\t0.13518356605642187\n",
      "  (9, 239)\t0.22042092503912225\n",
      "  (9, 236)\t0.13690268663018434\n",
      "  (9, 187)\t0.16412135553806223\n",
      "  (9, 177)\t0.21075785397021393\n",
      "  (9, 176)\t0.17632931076538785\n",
      "  (9, 160)\t0.36495697537694294\n",
      "  (9, 146)\t0.17377475002067336\n",
      "  (9, 105)\t0.17465816345896965\n",
      "  (9, 96)\t0.1999091212812444\n",
      "  (9, 70)\t0.398065526030938\n",
      "  (9, 56)\t0.13807296762840254\n",
      "  (9, 38)\t0.1912626133393576\n",
      "  (9, 15)\t0.19515910697960862\n",
      "  (9, 6)\t0.5866654854785168\n"
     ]
    }
   ],
   "source": [
    "print(x_test_tfidf)"
   ]
  },
  {
   "cell_type": "code",
   "execution_count": 44,
   "id": "7bcf8d20",
   "metadata": {},
   "outputs": [
    {
     "data": {
      "text/plain": [
       "MultiOutputClassifier(estimator=XGBClassifier(base_score=None, booster=None,\n",
       "                                              callbacks=None,\n",
       "                                              colsample_bylevel=None,\n",
       "                                              colsample_bynode=None,\n",
       "                                              colsample_bytree=None,\n",
       "                                              early_stopping_rounds=None,\n",
       "                                              enable_categorical=False,\n",
       "                                              eval_metric=None, gamma=None,\n",
       "                                              gpu_id=None, grow_policy=None,\n",
       "                                              importance_type=None,\n",
       "                                              interaction_constraints=None,\n",
       "                                              learning_rate=None, max_bin=None,\n",
       "                                              max_cat_to_onehot=None,\n",
       "                                              max_delta_step=None,\n",
       "                                              max_depth=None, max_leaves=None,\n",
       "                                              min_child_weight=None,\n",
       "                                              missing=nan,\n",
       "                                              monotone_constraints=None,\n",
       "                                              n_estimators=100, n_jobs=None,\n",
       "                                              num_parallel_tree=None,\n",
       "                                              predictor=None, random_state=None,\n",
       "                                              reg_alpha=None, reg_lambda=None, ...))"
      ]
     },
     "execution_count": 44,
     "metadata": {},
     "output_type": "execute_result"
    }
   ],
   "source": [
    "from xgboost import XGBClassifier\n",
    "from sklearn.multioutput import MultiOutputClassifier\n",
    "xgb = MultiOutputClassifier(XGBClassifier())\n",
    "xgb.fit(x_train_tfidf,y_train)"
   ]
  },
  {
   "cell_type": "code",
   "execution_count": 45,
   "id": "fdbf34bb",
   "metadata": {},
   "outputs": [
    {
     "name": "stdout",
     "output_type": "stream",
     "text": [
      "0.665061879504964\n"
     ]
    }
   ],
   "source": [
    "print(xgb.score(x_train_tfidf,y_train))"
   ]
  },
  {
   "cell_type": "code",
   "execution_count": 49,
   "id": "b4f6ae5a",
   "metadata": {},
   "outputs": [],
   "source": [
    "prediction = xgb.predict(x_test_tfidf)\n"
   ]
  },
  {
   "cell_type": "code",
   "execution_count": 50,
   "id": "5a129b24",
   "metadata": {},
   "outputs": [
    {
     "data": {
      "text/plain": [
       "array([[1, 0, 0],\n",
       "       [0, 1, 0],\n",
       "       [0, 1, 0],\n",
       "       [0, 1, 0],\n",
       "       [0, 0, 0],\n",
       "       [1, 0, 0],\n",
       "       [1, 0, 0],\n",
       "       [1, 0, 0],\n",
       "       [1, 0, 0],\n",
       "       [1, 0, 0]])"
      ]
     },
     "execution_count": 50,
     "metadata": {},
     "output_type": "execute_result"
    }
   ],
   "source": [
    "prediction"
   ]
  },
  {
   "cell_type": "code",
   "execution_count": 51,
   "id": "69c347b8",
   "metadata": {},
   "outputs": [],
   "source": [
    "prediction = pd.DataFrame(prediction,columns=[\"Ineffective\", \"Adequate\", \"Effective\"])"
   ]
  },
  {
   "cell_type": "code",
   "execution_count": 52,
   "id": "05e6cc09",
   "metadata": {},
   "outputs": [
    {
     "data": {
      "text/html": [
       "<div>\n",
       "<style scoped>\n",
       "    .dataframe tbody tr th:only-of-type {\n",
       "        vertical-align: middle;\n",
       "    }\n",
       "\n",
       "    .dataframe tbody tr th {\n",
       "        vertical-align: top;\n",
       "    }\n",
       "\n",
       "    .dataframe thead th {\n",
       "        text-align: right;\n",
       "    }\n",
       "</style>\n",
       "<table border=\"1\" class=\"dataframe\">\n",
       "  <thead>\n",
       "    <tr style=\"text-align: right;\">\n",
       "      <th></th>\n",
       "      <th>Ineffective</th>\n",
       "      <th>Adequate</th>\n",
       "      <th>Effective</th>\n",
       "    </tr>\n",
       "  </thead>\n",
       "  <tbody>\n",
       "    <tr>\n",
       "      <th>0</th>\n",
       "      <td>1</td>\n",
       "      <td>0</td>\n",
       "      <td>0</td>\n",
       "    </tr>\n",
       "    <tr>\n",
       "      <th>1</th>\n",
       "      <td>0</td>\n",
       "      <td>1</td>\n",
       "      <td>0</td>\n",
       "    </tr>\n",
       "    <tr>\n",
       "      <th>2</th>\n",
       "      <td>0</td>\n",
       "      <td>1</td>\n",
       "      <td>0</td>\n",
       "    </tr>\n",
       "    <tr>\n",
       "      <th>3</th>\n",
       "      <td>0</td>\n",
       "      <td>1</td>\n",
       "      <td>0</td>\n",
       "    </tr>\n",
       "    <tr>\n",
       "      <th>4</th>\n",
       "      <td>0</td>\n",
       "      <td>0</td>\n",
       "      <td>0</td>\n",
       "    </tr>\n",
       "    <tr>\n",
       "      <th>5</th>\n",
       "      <td>1</td>\n",
       "      <td>0</td>\n",
       "      <td>0</td>\n",
       "    </tr>\n",
       "    <tr>\n",
       "      <th>6</th>\n",
       "      <td>1</td>\n",
       "      <td>0</td>\n",
       "      <td>0</td>\n",
       "    </tr>\n",
       "    <tr>\n",
       "      <th>7</th>\n",
       "      <td>1</td>\n",
       "      <td>0</td>\n",
       "      <td>0</td>\n",
       "    </tr>\n",
       "    <tr>\n",
       "      <th>8</th>\n",
       "      <td>1</td>\n",
       "      <td>0</td>\n",
       "      <td>0</td>\n",
       "    </tr>\n",
       "    <tr>\n",
       "      <th>9</th>\n",
       "      <td>1</td>\n",
       "      <td>0</td>\n",
       "      <td>0</td>\n",
       "    </tr>\n",
       "  </tbody>\n",
       "</table>\n",
       "</div>"
      ],
      "text/plain": [
       "   Ineffective  Adequate  Effective\n",
       "0            1         0          0\n",
       "1            0         1          0\n",
       "2            0         1          0\n",
       "3            0         1          0\n",
       "4            0         0          0\n",
       "5            1         0          0\n",
       "6            1         0          0\n",
       "7            1         0          0\n",
       "8            1         0          0\n",
       "9            1         0          0"
      ]
     },
     "execution_count": 52,
     "metadata": {},
     "output_type": "execute_result"
    }
   ],
   "source": [
    "prediction"
   ]
  },
  {
   "cell_type": "code",
   "execution_count": 54,
   "id": "0d8263e2",
   "metadata": {},
   "outputs": [
    {
     "data": {
      "text/html": [
       "<div>\n",
       "<style scoped>\n",
       "    .dataframe tbody tr th:only-of-type {\n",
       "        vertical-align: middle;\n",
       "    }\n",
       "\n",
       "    .dataframe tbody tr th {\n",
       "        vertical-align: top;\n",
       "    }\n",
       "\n",
       "    .dataframe thead th {\n",
       "        text-align: right;\n",
       "    }\n",
       "</style>\n",
       "<table border=\"1\" class=\"dataframe\">\n",
       "  <thead>\n",
       "    <tr style=\"text-align: right;\">\n",
       "      <th></th>\n",
       "      <th>discourse_id</th>\n",
       "      <th>Ineffective</th>\n",
       "      <th>Adequate</th>\n",
       "      <th>Effective</th>\n",
       "    </tr>\n",
       "  </thead>\n",
       "  <tbody>\n",
       "    <tr>\n",
       "      <th>0</th>\n",
       "      <td>a261b6e14276</td>\n",
       "      <td>1</td>\n",
       "      <td>0</td>\n",
       "      <td>0</td>\n",
       "    </tr>\n",
       "    <tr>\n",
       "      <th>1</th>\n",
       "      <td>5a88900e7dc1</td>\n",
       "      <td>0</td>\n",
       "      <td>1</td>\n",
       "      <td>0</td>\n",
       "    </tr>\n",
       "    <tr>\n",
       "      <th>2</th>\n",
       "      <td>9790d835736b</td>\n",
       "      <td>0</td>\n",
       "      <td>1</td>\n",
       "      <td>0</td>\n",
       "    </tr>\n",
       "    <tr>\n",
       "      <th>3</th>\n",
       "      <td>75ce6d68b67b</td>\n",
       "      <td>0</td>\n",
       "      <td>1</td>\n",
       "      <td>0</td>\n",
       "    </tr>\n",
       "    <tr>\n",
       "      <th>4</th>\n",
       "      <td>93578d946723</td>\n",
       "      <td>0</td>\n",
       "      <td>0</td>\n",
       "      <td>0</td>\n",
       "    </tr>\n",
       "    <tr>\n",
       "      <th>5</th>\n",
       "      <td>2e214524dbe3</td>\n",
       "      <td>1</td>\n",
       "      <td>0</td>\n",
       "      <td>0</td>\n",
       "    </tr>\n",
       "    <tr>\n",
       "      <th>6</th>\n",
       "      <td>84812fc2ab9f</td>\n",
       "      <td>1</td>\n",
       "      <td>0</td>\n",
       "      <td>0</td>\n",
       "    </tr>\n",
       "    <tr>\n",
       "      <th>7</th>\n",
       "      <td>c668ff840720</td>\n",
       "      <td>1</td>\n",
       "      <td>0</td>\n",
       "      <td>0</td>\n",
       "    </tr>\n",
       "    <tr>\n",
       "      <th>8</th>\n",
       "      <td>739a6d00f44a</td>\n",
       "      <td>1</td>\n",
       "      <td>0</td>\n",
       "      <td>0</td>\n",
       "    </tr>\n",
       "    <tr>\n",
       "      <th>9</th>\n",
       "      <td>bcfae2c9a244</td>\n",
       "      <td>1</td>\n",
       "      <td>0</td>\n",
       "      <td>0</td>\n",
       "    </tr>\n",
       "  </tbody>\n",
       "</table>\n",
       "</div>"
      ],
      "text/plain": [
       "   discourse_id  Ineffective  Adequate  Effective\n",
       "0  a261b6e14276            1         0          0\n",
       "1  5a88900e7dc1            0         1          0\n",
       "2  9790d835736b            0         1          0\n",
       "3  75ce6d68b67b            0         1          0\n",
       "4  93578d946723            0         0          0\n",
       "5  2e214524dbe3            1         0          0\n",
       "6  84812fc2ab9f            1         0          0\n",
       "7  c668ff840720            1         0          0\n",
       "8  739a6d00f44a            1         0          0\n",
       "9  bcfae2c9a244            1         0          0"
      ]
     },
     "execution_count": 54,
     "metadata": {},
     "output_type": "execute_result"
    }
   ],
   "source": [
    "prediction[\"discourse_id\"] = sample_sub[\"discourse_id\"] \n",
    "titles = ['discourse_id','Ineffective', 'Adequate', 'Effective']\n",
    "prediction = prediction.reindex(columns = titles)\n",
    "prediction"
   ]
  },
  {
   "cell_type": "code",
   "execution_count": 55,
   "id": "e59381da",
   "metadata": {},
   "outputs": [
    {
     "name": "stdout",
     "output_type": "stream",
     "text": [
      "My competition submission: \n",
      "\n",
      "    discourse_id  Ineffective  Adequate  Effective\n",
      "0  a261b6e14276            1         0          0\n",
      "1  5a88900e7dc1            0         1          0\n",
      "2  9790d835736b            0         1          0\n",
      "3  75ce6d68b67b            0         1          0\n",
      "4  93578d946723            0         0          0\n",
      "5  2e214524dbe3            1         0          0\n",
      "6  84812fc2ab9f            1         0          0\n",
      "7  c668ff840720            1         0          0\n",
      "8  739a6d00f44a            1         0          0\n",
      "9  bcfae2c9a244            1         0          0\n"
     ]
    }
   ],
   "source": [
    "submission = pd.DataFrame(prediction)\n",
    "submission.to_csv('submission1.csv', index = False)\n",
    "print(\"My competition submission: \\n\\n\", submission)"
   ]
  },
  {
   "cell_type": "code",
   "execution_count": null,
   "id": "8440ee10",
   "metadata": {},
   "outputs": [],
   "source": []
  }
 ],
 "metadata": {
  "kernelspec": {
   "display_name": "Python 3 (ipykernel)",
   "language": "python",
   "name": "python3"
  },
  "language_info": {
   "codemirror_mode": {
    "name": "ipython",
    "version": 3
   },
   "file_extension": ".py",
   "mimetype": "text/x-python",
   "name": "python",
   "nbconvert_exporter": "python",
   "pygments_lexer": "ipython3",
   "version": "3.9.7"
  }
 },
 "nbformat": 4,
 "nbformat_minor": 5
}
