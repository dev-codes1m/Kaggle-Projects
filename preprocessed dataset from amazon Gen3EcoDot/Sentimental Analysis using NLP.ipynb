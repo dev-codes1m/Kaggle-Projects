{
 "cells": [
  {
   "cell_type": "code",
   "execution_count": 1,
   "id": "1d28231a",
   "metadata": {},
   "outputs": [],
   "source": [
    "import numpy as np\n",
    "import pandas as pd"
   ]
  },
  {
   "cell_type": "code",
   "execution_count": 2,
   "id": "0e1f18c9",
   "metadata": {},
   "outputs": [],
   "source": [
    "data = pd.read_csv('EcoPreprocessed.csv')"
   ]
  },
  {
   "cell_type": "code",
   "execution_count": 3,
   "id": "349ed82c",
   "metadata": {},
   "outputs": [
    {
     "data": {
      "text/html": [
       "<div>\n",
       "<style scoped>\n",
       "    .dataframe tbody tr th:only-of-type {\n",
       "        vertical-align: middle;\n",
       "    }\n",
       "\n",
       "    .dataframe tbody tr th {\n",
       "        vertical-align: top;\n",
       "    }\n",
       "\n",
       "    .dataframe thead th {\n",
       "        text-align: right;\n",
       "    }\n",
       "</style>\n",
       "<table border=\"1\" class=\"dataframe\">\n",
       "  <thead>\n",
       "    <tr style=\"text-align: right;\">\n",
       "      <th></th>\n",
       "      <th>Unnamed: 0</th>\n",
       "      <th>review</th>\n",
       "      <th>polarity</th>\n",
       "      <th>division</th>\n",
       "    </tr>\n",
       "  </thead>\n",
       "  <tbody>\n",
       "    <tr>\n",
       "      <th>0</th>\n",
       "      <td>3870</td>\n",
       "      <td>able play youtube alexa</td>\n",
       "      <td>0.5000</td>\n",
       "      <td>positive</td>\n",
       "    </tr>\n",
       "    <tr>\n",
       "      <th>1</th>\n",
       "      <td>62</td>\n",
       "      <td>able recognize indian accent really well drop ...</td>\n",
       "      <td>0.2794</td>\n",
       "      <td>positive</td>\n",
       "    </tr>\n",
       "    <tr>\n",
       "      <th>2</th>\n",
       "      <td>487</td>\n",
       "      <td>absolute smart device amazon connect external ...</td>\n",
       "      <td>0.1827</td>\n",
       "      <td>positive</td>\n",
       "    </tr>\n",
       "    <tr>\n",
       "      <th>3</th>\n",
       "      <td>3204</td>\n",
       "      <td>absolutely amaze new member family control hom...</td>\n",
       "      <td>0.3682</td>\n",
       "      <td>positive</td>\n",
       "    </tr>\n",
       "    <tr>\n",
       "      <th>4</th>\n",
       "      <td>1265</td>\n",
       "      <td>absolutely amaze previously sceptical invest m...</td>\n",
       "      <td>0.2333</td>\n",
       "      <td>positive</td>\n",
       "    </tr>\n",
       "  </tbody>\n",
       "</table>\n",
       "</div>"
      ],
      "text/plain": [
       "   Unnamed: 0                                             review  polarity  \\\n",
       "0        3870                            able play youtube alexa    0.5000   \n",
       "1          62  able recognize indian accent really well drop ...    0.2794   \n",
       "2         487  absolute smart device amazon connect external ...    0.1827   \n",
       "3        3204  absolutely amaze new member family control hom...    0.3682   \n",
       "4        1265  absolutely amaze previously sceptical invest m...    0.2333   \n",
       "\n",
       "   division  \n",
       "0  positive  \n",
       "1  positive  \n",
       "2  positive  \n",
       "3  positive  \n",
       "4  positive  "
      ]
     },
     "execution_count": 3,
     "metadata": {},
     "output_type": "execute_result"
    }
   ],
   "source": [
    "data.head()"
   ]
  },
  {
   "cell_type": "code",
   "execution_count": 4,
   "id": "7d69d5e9",
   "metadata": {},
   "outputs": [],
   "source": [
    "del data['Unnamed: 0']"
   ]
  },
  {
   "cell_type": "code",
   "execution_count": 5,
   "id": "64e59c5c",
   "metadata": {},
   "outputs": [
    {
     "data": {
      "text/html": [
       "<div>\n",
       "<style scoped>\n",
       "    .dataframe tbody tr th:only-of-type {\n",
       "        vertical-align: middle;\n",
       "    }\n",
       "\n",
       "    .dataframe tbody tr th {\n",
       "        vertical-align: top;\n",
       "    }\n",
       "\n",
       "    .dataframe thead th {\n",
       "        text-align: right;\n",
       "    }\n",
       "</style>\n",
       "<table border=\"1\" class=\"dataframe\">\n",
       "  <thead>\n",
       "    <tr style=\"text-align: right;\">\n",
       "      <th></th>\n",
       "      <th>review</th>\n",
       "      <th>polarity</th>\n",
       "      <th>division</th>\n",
       "    </tr>\n",
       "  </thead>\n",
       "  <tbody>\n",
       "    <tr>\n",
       "      <th>0</th>\n",
       "      <td>able play youtube alexa</td>\n",
       "      <td>0.5000</td>\n",
       "      <td>positive</td>\n",
       "    </tr>\n",
       "    <tr>\n",
       "      <th>1</th>\n",
       "      <td>able recognize indian accent really well drop ...</td>\n",
       "      <td>0.2794</td>\n",
       "      <td>positive</td>\n",
       "    </tr>\n",
       "    <tr>\n",
       "      <th>2</th>\n",
       "      <td>absolute smart device amazon connect external ...</td>\n",
       "      <td>0.1827</td>\n",
       "      <td>positive</td>\n",
       "    </tr>\n",
       "    <tr>\n",
       "      <th>3</th>\n",
       "      <td>absolutely amaze new member family control hom...</td>\n",
       "      <td>0.3682</td>\n",
       "      <td>positive</td>\n",
       "    </tr>\n",
       "    <tr>\n",
       "      <th>4</th>\n",
       "      <td>absolutely amaze previously sceptical invest m...</td>\n",
       "      <td>0.2333</td>\n",
       "      <td>positive</td>\n",
       "    </tr>\n",
       "  </tbody>\n",
       "</table>\n",
       "</div>"
      ],
      "text/plain": [
       "                                              review  polarity  division\n",
       "0                            able play youtube alexa    0.5000  positive\n",
       "1  able recognize indian accent really well drop ...    0.2794  positive\n",
       "2  absolute smart device amazon connect external ...    0.1827  positive\n",
       "3  absolutely amaze new member family control hom...    0.3682  positive\n",
       "4  absolutely amaze previously sceptical invest m...    0.2333  positive"
      ]
     },
     "execution_count": 5,
     "metadata": {},
     "output_type": "execute_result"
    }
   ],
   "source": [
    "data.head()"
   ]
  },
  {
   "cell_type": "code",
   "execution_count": 6,
   "id": "8dab556c",
   "metadata": {},
   "outputs": [],
   "source": [
    "del data['polarity']"
   ]
  },
  {
   "cell_type": "code",
   "execution_count": 7,
   "id": "2379ec6e",
   "metadata": {},
   "outputs": [
    {
     "data": {
      "text/html": [
       "<div>\n",
       "<style scoped>\n",
       "    .dataframe tbody tr th:only-of-type {\n",
       "        vertical-align: middle;\n",
       "    }\n",
       "\n",
       "    .dataframe tbody tr th {\n",
       "        vertical-align: top;\n",
       "    }\n",
       "\n",
       "    .dataframe thead th {\n",
       "        text-align: right;\n",
       "    }\n",
       "</style>\n",
       "<table border=\"1\" class=\"dataframe\">\n",
       "  <thead>\n",
       "    <tr style=\"text-align: right;\">\n",
       "      <th></th>\n",
       "      <th>review</th>\n",
       "      <th>division</th>\n",
       "    </tr>\n",
       "  </thead>\n",
       "  <tbody>\n",
       "    <tr>\n",
       "      <th>0</th>\n",
       "      <td>able play youtube alexa</td>\n",
       "      <td>positive</td>\n",
       "    </tr>\n",
       "    <tr>\n",
       "      <th>1</th>\n",
       "      <td>able recognize indian accent really well drop ...</td>\n",
       "      <td>positive</td>\n",
       "    </tr>\n",
       "    <tr>\n",
       "      <th>2</th>\n",
       "      <td>absolute smart device amazon connect external ...</td>\n",
       "      <td>positive</td>\n",
       "    </tr>\n",
       "    <tr>\n",
       "      <th>3</th>\n",
       "      <td>absolutely amaze new member family control hom...</td>\n",
       "      <td>positive</td>\n",
       "    </tr>\n",
       "    <tr>\n",
       "      <th>4</th>\n",
       "      <td>absolutely amaze previously sceptical invest m...</td>\n",
       "      <td>positive</td>\n",
       "    </tr>\n",
       "    <tr>\n",
       "      <th>...</th>\n",
       "      <td>...</td>\n",
       "      <td>...</td>\n",
       "    </tr>\n",
       "    <tr>\n",
       "      <th>4079</th>\n",
       "      <td>yo yo yo love go if want one smart speaker val...</td>\n",
       "      <td>positive</td>\n",
       "    </tr>\n",
       "    <tr>\n",
       "      <th>4080</th>\n",
       "      <td>youtube music</td>\n",
       "      <td>neutral</td>\n",
       "    </tr>\n",
       "    <tr>\n",
       "      <th>4081</th>\n",
       "      <td>youtube support nahi kartasong recognise achha...</td>\n",
       "      <td>neutral</td>\n",
       "    </tr>\n",
       "    <tr>\n",
       "      <th>4082</th>\n",
       "      <td>yup proscontrols wipro light amazinglysony bra...</td>\n",
       "      <td>neutral</td>\n",
       "    </tr>\n",
       "    <tr>\n",
       "      <th>4083</th>\n",
       "      <td>zero integration capabilities fire tv devices ...</td>\n",
       "      <td>negative</td>\n",
       "    </tr>\n",
       "  </tbody>\n",
       "</table>\n",
       "<p>4084 rows × 2 columns</p>\n",
       "</div>"
      ],
      "text/plain": [
       "                                                 review  division\n",
       "0                               able play youtube alexa  positive\n",
       "1     able recognize indian accent really well drop ...  positive\n",
       "2     absolute smart device amazon connect external ...  positive\n",
       "3     absolutely amaze new member family control hom...  positive\n",
       "4     absolutely amaze previously sceptical invest m...  positive\n",
       "...                                                 ...       ...\n",
       "4079  yo yo yo love go if want one smart speaker val...  positive\n",
       "4080                                      youtube music   neutral\n",
       "4081  youtube support nahi kartasong recognise achha...   neutral\n",
       "4082  yup proscontrols wipro light amazinglysony bra...   neutral\n",
       "4083  zero integration capabilities fire tv devices ...  negative\n",
       "\n",
       "[4084 rows x 2 columns]"
      ]
     },
     "execution_count": 7,
     "metadata": {},
     "output_type": "execute_result"
    }
   ],
   "source": [
    "data"
   ]
  },
  {
   "cell_type": "code",
   "execution_count": 8,
   "id": "bfcad3bd",
   "metadata": {},
   "outputs": [],
   "source": [
    "from nltk.corpus import stopwords\n",
    "import re\n",
    "stp_word = stopwords.words('english')\n",
    "        "
   ]
  },
  {
   "cell_type": "code",
   "execution_count": 9,
   "id": "1efc34ee",
   "metadata": {},
   "outputs": [],
   "source": [
    "data['review'] = data['review'].apply(lambda x:x.lower())"
   ]
  },
  {
   "cell_type": "code",
   "execution_count": 10,
   "id": "10f825a3",
   "metadata": {},
   "outputs": [],
   "source": [
    "data['review'] = data['review'].apply(lambda x:re.sub('azAZ','',x))"
   ]
  },
  {
   "cell_type": "code",
   "execution_count": 11,
   "id": "fff070f4",
   "metadata": {},
   "outputs": [],
   "source": [
    "data['review']= data['review'].apply(lambda x:' '.join([word for word in x.split() if word not in (stp_word)]))"
   ]
  },
  {
   "cell_type": "code",
   "execution_count": 12,
   "id": "3c942b63",
   "metadata": {},
   "outputs": [
    {
     "data": {
      "text/plain": [
       "0                                 able play youtube alexa\n",
       "1       able recognize indian accent really well drop ...\n",
       "2       absolute smart device amazon connect external ...\n",
       "3       absolutely amaze new member family control hom...\n",
       "4       absolutely amaze previously sceptical invest m...\n",
       "                              ...                        \n",
       "4079    yo yo yo love go want one smart speaker value ...\n",
       "4080                                        youtube music\n",
       "4081    youtube support nahi kartasong recognise achha...\n",
       "4082    yup proscontrols wipro light amazinglysony bra...\n",
       "4083    zero integration capabilities fire tv devices ...\n",
       "Name: review, Length: 4084, dtype: object"
      ]
     },
     "execution_count": 12,
     "metadata": {},
     "output_type": "execute_result"
    }
   ],
   "source": [
    "data['review']"
   ]
  },
  {
   "cell_type": "code",
   "execution_count": 13,
   "id": "6b05d0ad",
   "metadata": {},
   "outputs": [
    {
     "data": {
      "text/plain": [
       "positive    3066\n",
       "neutral      536\n",
       "negative     482\n",
       "Name: division, dtype: int64"
      ]
     },
     "execution_count": 13,
     "metadata": {},
     "output_type": "execute_result"
    }
   ],
   "source": [
    "data['division'].value_counts()"
   ]
  },
  {
   "cell_type": "code",
   "execution_count": 14,
   "id": "c9003155",
   "metadata": {},
   "outputs": [
    {
     "data": {
      "text/plain": [
       "0       1\n",
       "1       1\n",
       "2       1\n",
       "3       1\n",
       "4       1\n",
       "       ..\n",
       "4079    1\n",
       "4080    0\n",
       "4081    0\n",
       "4082    0\n",
       "4083   -1\n",
       "Name: division, Length: 4084, dtype: int64"
      ]
     },
     "execution_count": 14,
     "metadata": {},
     "output_type": "execute_result"
    }
   ],
   "source": [
    "data['division'].replace({'positive':1,'neutral':0,'negative':-1})"
   ]
  },
  {
   "cell_type": "code",
   "execution_count": 15,
   "id": "c2241f9a",
   "metadata": {},
   "outputs": [
    {
     "name": "stderr",
     "output_type": "stream",
     "text": [
      "[nltk_data] Downloading package punkt to\n",
      "[nltk_data]     C:\\Users\\devan\\AppData\\Roaming\\nltk_data...\n",
      "[nltk_data]   Package punkt is already up-to-date!\n"
     ]
    }
   ],
   "source": [
    "import nltk\n",
    "nltk.download('punkt')\n",
    "from nltk.stem import WordNetLemmatizer\n",
    "from nltk.tokenize import word_tokenize\n",
    "lemmatizer = WordNetLemmatizer()\n",
    "\n",
    "#Lemmatize String\n",
    "def lemmatize_word(text):\n",
    "    word_tokens = word_tokenize(text)\n",
    "    #Providing context i.e. The part of speech\n",
    "    lemmas = [lemmatizer.lemmatize(word, pos= 'v') for word in word_tokens]\n",
    "    return lemmas"
   ]
  },
  {
   "cell_type": "code",
   "execution_count": 16,
   "id": "9894cbda",
   "metadata": {},
   "outputs": [],
   "source": [
    "data['review'] = data['review'].apply(lemmatize_word)"
   ]
  },
  {
   "cell_type": "code",
   "execution_count": 17,
   "id": "5ab4c4dd",
   "metadata": {},
   "outputs": [
    {
     "data": {
      "text/plain": [
       "0                            [able, play, youtube, alexa]\n",
       "1       [able, recognize, indian, accent, really, well...\n",
       "2       [absolute, smart, device, amazon, connect, ext...\n",
       "3       [absolutely, amaze, new, member, family, contr...\n",
       "4       [absolutely, amaze, previously, sceptical, inv...\n",
       "                              ...                        \n",
       "4079    [yo, yo, yo, love, go, want, one, smart, speak...\n",
       "4080                                     [youtube, music]\n",
       "4081    [youtube, support, nahi, kartasong, recognise,...\n",
       "4082    [yup, proscontrols, wipro, light, amazinglyson...\n",
       "4083    [zero, integration, capabilities, fire, tv, de...\n",
       "Name: review, Length: 4084, dtype: object"
      ]
     },
     "execution_count": 17,
     "metadata": {},
     "output_type": "execute_result"
    }
   ],
   "source": [
    "data['review']"
   ]
  },
  {
   "cell_type": "code",
   "execution_count": 18,
   "id": "62b85921",
   "metadata": {},
   "outputs": [
    {
     "data": {
      "text/html": [
       "<div>\n",
       "<style scoped>\n",
       "    .dataframe tbody tr th:only-of-type {\n",
       "        vertical-align: middle;\n",
       "    }\n",
       "\n",
       "    .dataframe tbody tr th {\n",
       "        vertical-align: top;\n",
       "    }\n",
       "\n",
       "    .dataframe thead th {\n",
       "        text-align: right;\n",
       "    }\n",
       "</style>\n",
       "<table border=\"1\" class=\"dataframe\">\n",
       "  <thead>\n",
       "    <tr style=\"text-align: right;\">\n",
       "      <th></th>\n",
       "      <th>review</th>\n",
       "      <th>division</th>\n",
       "    </tr>\n",
       "  </thead>\n",
       "  <tbody>\n",
       "    <tr>\n",
       "      <th>0</th>\n",
       "      <td>[able, play, youtube, alexa]</td>\n",
       "      <td>positive</td>\n",
       "    </tr>\n",
       "    <tr>\n",
       "      <th>1</th>\n",
       "      <td>[able, recognize, indian, accent, really, well...</td>\n",
       "      <td>positive</td>\n",
       "    </tr>\n",
       "    <tr>\n",
       "      <th>2</th>\n",
       "      <td>[absolute, smart, device, amazon, connect, ext...</td>\n",
       "      <td>positive</td>\n",
       "    </tr>\n",
       "    <tr>\n",
       "      <th>3</th>\n",
       "      <td>[absolutely, amaze, new, member, family, contr...</td>\n",
       "      <td>positive</td>\n",
       "    </tr>\n",
       "    <tr>\n",
       "      <th>4</th>\n",
       "      <td>[absolutely, amaze, previously, sceptical, inv...</td>\n",
       "      <td>positive</td>\n",
       "    </tr>\n",
       "  </tbody>\n",
       "</table>\n",
       "</div>"
      ],
      "text/plain": [
       "                                              review  division\n",
       "0                       [able, play, youtube, alexa]  positive\n",
       "1  [able, recognize, indian, accent, really, well...  positive\n",
       "2  [absolute, smart, device, amazon, connect, ext...  positive\n",
       "3  [absolutely, amaze, new, member, family, contr...  positive\n",
       "4  [absolutely, amaze, previously, sceptical, inv...  positive"
      ]
     },
     "execution_count": 18,
     "metadata": {},
     "output_type": "execute_result"
    }
   ],
   "source": [
    "data.head()"
   ]
  },
  {
   "cell_type": "code",
   "execution_count": 19,
   "id": "3b9a8fd3",
   "metadata": {},
   "outputs": [],
   "source": [
    "data['review'] = data['review'].apply(lambda x: ' '.join(x))"
   ]
  },
  {
   "cell_type": "code",
   "execution_count": 20,
   "id": "33adffed",
   "metadata": {},
   "outputs": [
    {
     "data": {
      "text/plain": [
       "0                                 able play youtube alexa\n",
       "1       able recognize indian accent really well drop ...\n",
       "2       absolute smart device amazon connect external ...\n",
       "3       absolutely amaze new member family control hom...\n",
       "4       absolutely amaze previously sceptical invest m...\n",
       "                              ...                        \n",
       "4079    yo yo yo love go want one smart speaker value ...\n",
       "4080                                        youtube music\n",
       "4081    youtube support nahi kartasong recognise achha...\n",
       "4082    yup proscontrols wipro light amazinglysony bra...\n",
       "4083    zero integration capabilities fire tv devices ...\n",
       "Name: review, Length: 4084, dtype: object"
      ]
     },
     "execution_count": 20,
     "metadata": {},
     "output_type": "execute_result"
    }
   ],
   "source": [
    "data['review']"
   ]
  },
  {
   "cell_type": "code",
   "execution_count": 21,
   "id": "9d11b212",
   "metadata": {},
   "outputs": [
    {
     "data": {
      "text/html": [
       "<div>\n",
       "<style scoped>\n",
       "    .dataframe tbody tr th:only-of-type {\n",
       "        vertical-align: middle;\n",
       "    }\n",
       "\n",
       "    .dataframe tbody tr th {\n",
       "        vertical-align: top;\n",
       "    }\n",
       "\n",
       "    .dataframe thead th {\n",
       "        text-align: right;\n",
       "    }\n",
       "</style>\n",
       "<table border=\"1\" class=\"dataframe\">\n",
       "  <thead>\n",
       "    <tr style=\"text-align: right;\">\n",
       "      <th></th>\n",
       "      <th>review</th>\n",
       "      <th>division</th>\n",
       "    </tr>\n",
       "  </thead>\n",
       "  <tbody>\n",
       "    <tr>\n",
       "      <th>0</th>\n",
       "      <td>able play youtube alexa</td>\n",
       "      <td>positive</td>\n",
       "    </tr>\n",
       "    <tr>\n",
       "      <th>1</th>\n",
       "      <td>able recognize indian accent really well drop ...</td>\n",
       "      <td>positive</td>\n",
       "    </tr>\n",
       "    <tr>\n",
       "      <th>2</th>\n",
       "      <td>absolute smart device amazon connect external ...</td>\n",
       "      <td>positive</td>\n",
       "    </tr>\n",
       "    <tr>\n",
       "      <th>3</th>\n",
       "      <td>absolutely amaze new member family control hom...</td>\n",
       "      <td>positive</td>\n",
       "    </tr>\n",
       "    <tr>\n",
       "      <th>4</th>\n",
       "      <td>absolutely amaze previously sceptical invest m...</td>\n",
       "      <td>positive</td>\n",
       "    </tr>\n",
       "  </tbody>\n",
       "</table>\n",
       "</div>"
      ],
      "text/plain": [
       "                                              review  division\n",
       "0                            able play youtube alexa  positive\n",
       "1  able recognize indian accent really well drop ...  positive\n",
       "2  absolute smart device amazon connect external ...  positive\n",
       "3  absolutely amaze new member family control hom...  positive\n",
       "4  absolutely amaze previously sceptical invest m...  positive"
      ]
     },
     "execution_count": 21,
     "metadata": {},
     "output_type": "execute_result"
    }
   ],
   "source": [
    "data.head()"
   ]
  },
  {
   "cell_type": "code",
   "execution_count": 22,
   "id": "43013045",
   "metadata": {},
   "outputs": [],
   "source": [
    "data['division']=data['division'].replace({'positive':1,'neutral':2,'negative':0})"
   ]
  },
  {
   "cell_type": "code",
   "execution_count": 23,
   "id": "d9bab4a3",
   "metadata": {},
   "outputs": [
    {
     "data": {
      "text/html": [
       "<div>\n",
       "<style scoped>\n",
       "    .dataframe tbody tr th:only-of-type {\n",
       "        vertical-align: middle;\n",
       "    }\n",
       "\n",
       "    .dataframe tbody tr th {\n",
       "        vertical-align: top;\n",
       "    }\n",
       "\n",
       "    .dataframe thead th {\n",
       "        text-align: right;\n",
       "    }\n",
       "</style>\n",
       "<table border=\"1\" class=\"dataframe\">\n",
       "  <thead>\n",
       "    <tr style=\"text-align: right;\">\n",
       "      <th></th>\n",
       "      <th>review</th>\n",
       "      <th>division</th>\n",
       "    </tr>\n",
       "  </thead>\n",
       "  <tbody>\n",
       "    <tr>\n",
       "      <th>0</th>\n",
       "      <td>able play youtube alexa</td>\n",
       "      <td>1</td>\n",
       "    </tr>\n",
       "    <tr>\n",
       "      <th>1</th>\n",
       "      <td>able recognize indian accent really well drop ...</td>\n",
       "      <td>1</td>\n",
       "    </tr>\n",
       "    <tr>\n",
       "      <th>2</th>\n",
       "      <td>absolute smart device amazon connect external ...</td>\n",
       "      <td>1</td>\n",
       "    </tr>\n",
       "    <tr>\n",
       "      <th>3</th>\n",
       "      <td>absolutely amaze new member family control hom...</td>\n",
       "      <td>1</td>\n",
       "    </tr>\n",
       "    <tr>\n",
       "      <th>4</th>\n",
       "      <td>absolutely amaze previously sceptical invest m...</td>\n",
       "      <td>1</td>\n",
       "    </tr>\n",
       "  </tbody>\n",
       "</table>\n",
       "</div>"
      ],
      "text/plain": [
       "                                              review  division\n",
       "0                            able play youtube alexa         1\n",
       "1  able recognize indian accent really well drop ...         1\n",
       "2  absolute smart device amazon connect external ...         1\n",
       "3  absolutely amaze new member family control hom...         1\n",
       "4  absolutely amaze previously sceptical invest m...         1"
      ]
     },
     "execution_count": 23,
     "metadata": {},
     "output_type": "execute_result"
    }
   ],
   "source": [
    "data.head()"
   ]
  },
  {
   "cell_type": "code",
   "execution_count": 24,
   "id": "305f15a6",
   "metadata": {},
   "outputs": [],
   "source": [
    "label = data['division']"
   ]
  },
  {
   "cell_type": "code",
   "execution_count": 25,
   "id": "9c29ff74",
   "metadata": {},
   "outputs": [],
   "source": [
    "data = data.drop('division',axis=1)"
   ]
  },
  {
   "cell_type": "code",
   "execution_count": 26,
   "id": "346e6f36",
   "metadata": {},
   "outputs": [
    {
     "data": {
      "text/html": [
       "<div>\n",
       "<style scoped>\n",
       "    .dataframe tbody tr th:only-of-type {\n",
       "        vertical-align: middle;\n",
       "    }\n",
       "\n",
       "    .dataframe tbody tr th {\n",
       "        vertical-align: top;\n",
       "    }\n",
       "\n",
       "    .dataframe thead th {\n",
       "        text-align: right;\n",
       "    }\n",
       "</style>\n",
       "<table border=\"1\" class=\"dataframe\">\n",
       "  <thead>\n",
       "    <tr style=\"text-align: right;\">\n",
       "      <th></th>\n",
       "      <th>review</th>\n",
       "    </tr>\n",
       "  </thead>\n",
       "  <tbody>\n",
       "    <tr>\n",
       "      <th>0</th>\n",
       "      <td>able play youtube alexa</td>\n",
       "    </tr>\n",
       "    <tr>\n",
       "      <th>1</th>\n",
       "      <td>able recognize indian accent really well drop ...</td>\n",
       "    </tr>\n",
       "    <tr>\n",
       "      <th>2</th>\n",
       "      <td>absolute smart device amazon connect external ...</td>\n",
       "    </tr>\n",
       "    <tr>\n",
       "      <th>3</th>\n",
       "      <td>absolutely amaze new member family control hom...</td>\n",
       "    </tr>\n",
       "    <tr>\n",
       "      <th>4</th>\n",
       "      <td>absolutely amaze previously sceptical invest m...</td>\n",
       "    </tr>\n",
       "    <tr>\n",
       "      <th>...</th>\n",
       "      <td>...</td>\n",
       "    </tr>\n",
       "    <tr>\n",
       "      <th>4079</th>\n",
       "      <td>yo yo yo love go want one smart speaker value ...</td>\n",
       "    </tr>\n",
       "    <tr>\n",
       "      <th>4080</th>\n",
       "      <td>youtube music</td>\n",
       "    </tr>\n",
       "    <tr>\n",
       "      <th>4081</th>\n",
       "      <td>youtube support nahi kartasong recognise achha...</td>\n",
       "    </tr>\n",
       "    <tr>\n",
       "      <th>4082</th>\n",
       "      <td>yup proscontrols wipro light amazinglysony bra...</td>\n",
       "    </tr>\n",
       "    <tr>\n",
       "      <th>4083</th>\n",
       "      <td>zero integration capabilities fire tv devices ...</td>\n",
       "    </tr>\n",
       "  </tbody>\n",
       "</table>\n",
       "<p>4084 rows × 1 columns</p>\n",
       "</div>"
      ],
      "text/plain": [
       "                                                 review\n",
       "0                               able play youtube alexa\n",
       "1     able recognize indian accent really well drop ...\n",
       "2     absolute smart device amazon connect external ...\n",
       "3     absolutely amaze new member family control hom...\n",
       "4     absolutely amaze previously sceptical invest m...\n",
       "...                                                 ...\n",
       "4079  yo yo yo love go want one smart speaker value ...\n",
       "4080                                      youtube music\n",
       "4081  youtube support nahi kartasong recognise achha...\n",
       "4082  yup proscontrols wipro light amazinglysony bra...\n",
       "4083  zero integration capabilities fire tv devices ...\n",
       "\n",
       "[4084 rows x 1 columns]"
      ]
     },
     "execution_count": 26,
     "metadata": {},
     "output_type": "execute_result"
    }
   ],
   "source": [
    "data"
   ]
  },
  {
   "cell_type": "markdown",
   "id": "e056c243",
   "metadata": {},
   "source": [
    "## Performing Train-Test Split"
   ]
  },
  {
   "cell_type": "code",
   "execution_count": 27,
   "id": "4d3c470a",
   "metadata": {},
   "outputs": [],
   "source": [
    "from sklearn.model_selection import train_test_split\n",
    "X_train,X_test,Y_train,Y_test = train_test_split(data['review'],label,test_size=0.2,random_state=42)"
   ]
  },
  {
   "cell_type": "code",
   "execution_count": 28,
   "id": "7732794f",
   "metadata": {},
   "outputs": [
    {
     "data": {
      "text/plain": [
       "1    2469\n",
       "2     409\n",
       "0     389\n",
       "Name: division, dtype: int64"
      ]
     },
     "execution_count": 28,
     "metadata": {},
     "output_type": "execute_result"
    }
   ],
   "source": [
    "Y_train.value_counts()"
   ]
  },
  {
   "cell_type": "code",
   "execution_count": 29,
   "id": "a553fb15",
   "metadata": {},
   "outputs": [
    {
     "data": {
      "text/plain": [
       "(3267,)"
      ]
     },
     "execution_count": 29,
     "metadata": {},
     "output_type": "execute_result"
    }
   ],
   "source": [
    "X_train.shape"
   ]
  },
  {
   "cell_type": "code",
   "execution_count": 30,
   "id": "96cdd8a6",
   "metadata": {},
   "outputs": [],
   "source": [
    "from sklearn.feature_extraction.text import TfidfVectorizer\n",
    "tfid = TfidfVectorizer()\n"
   ]
  },
  {
   "cell_type": "code",
   "execution_count": 31,
   "id": "0d722e9b",
   "metadata": {},
   "outputs": [
    {
     "data": {
      "text/plain": [
       "(3267,)"
      ]
     },
     "execution_count": 31,
     "metadata": {},
     "output_type": "execute_result"
    }
   ],
   "source": [
    "Y_train.shape"
   ]
  },
  {
   "cell_type": "code",
   "execution_count": 32,
   "id": "38e28992",
   "metadata": {},
   "outputs": [
    {
     "data": {
      "text/plain": [
       "(817,)"
      ]
     },
     "execution_count": 32,
     "metadata": {},
     "output_type": "execute_result"
    }
   ],
   "source": [
    "X_test.shape"
   ]
  },
  {
   "cell_type": "code",
   "execution_count": 33,
   "id": "7bbffc11",
   "metadata": {},
   "outputs": [
    {
     "data": {
      "text/plain": [
       "(4084, 1)"
      ]
     },
     "execution_count": 33,
     "metadata": {},
     "output_type": "execute_result"
    }
   ],
   "source": [
    "data.shape"
   ]
  },
  {
   "cell_type": "code",
   "execution_count": 34,
   "id": "dba7f0d2",
   "metadata": {},
   "outputs": [],
   "source": [
    "X_train_tfidf = tfid.fit_transform(X_train)"
   ]
  },
  {
   "cell_type": "code",
   "execution_count": 35,
   "id": "6dcb30e5",
   "metadata": {},
   "outputs": [],
   "source": [
    "X_test_tfid = tfid.transform(X_test)"
   ]
  },
  {
   "cell_type": "code",
   "execution_count": 36,
   "id": "e7f6e7d2",
   "metadata": {},
   "outputs": [
    {
     "name": "stdout",
     "output_type": "stream",
     "text": [
      "  (0, 1296)\t0.6928461823929611\n",
      "  (0, 2868)\t0.6117816272655955\n",
      "  (0, 186)\t0.3816901990931382\n",
      "  (1, 2253)\t1.0\n",
      "  (2, 2528)\t0.647358579607781\n",
      "  (2, 2613)\t0.5403712753015455\n",
      "  (2, 2253)\t0.5375181431702353\n",
      "  (3, 3962)\t0.21946471760604835\n",
      "  (3, 1014)\t0.38344090359772404\n",
      "  (3, 2775)\t0.39684377478628324\n",
      "  (3, 2617)\t0.42921800486310074\n",
      "  (3, 3098)\t0.17440569451273202\n",
      "  (3, 1632)\t0.13395583049505685\n",
      "  (3, 3555)\t0.48011001592158187\n",
      "  (3, 3050)\t0.42921800486310074\n",
      "  (4, 927)\t0.5227149464368135\n",
      "  (4, 3537)\t0.4571057073006847\n",
      "  (4, 488)\t0.40747423385679893\n",
      "  (4, 1055)\t0.26162721302708\n",
      "  (4, 879)\t0.3738205261051559\n",
      "  (4, 128)\t0.19108617404013853\n",
      "  (4, 4260)\t0.3272364521632086\n",
      "  (5, 1632)\t1.0\n",
      "  (6, 2586)\t0.11899575465058125\n",
      "  (6, 3813)\t0.2005265298566465\n",
      "  :\t:\n",
      "  (3264, 503)\t0.169109696883353\n",
      "  (3264, 2967)\t0.19248895759744247\n",
      "  (3264, 1797)\t0.17912358048542545\n",
      "  (3264, 324)\t0.20998255565416482\n",
      "  (3264, 2275)\t0.21056670807279998\n",
      "  (3264, 1055)\t0.1611454282834255\n",
      "  (3264, 128)\t0.11769671433816821\n",
      "  (3265, 3148)\t0.3789885930315603\n",
      "  (3265, 1325)\t0.30411007170593585\n",
      "  (3265, 3169)\t0.2663096019322808\n",
      "  (3265, 3847)\t0.30771993344674303\n",
      "  (3265, 3616)\t0.30865558592150044\n",
      "  (3265, 3655)\t0.1789991574848289\n",
      "  (3265, 608)\t0.35149591181552936\n",
      "  (3265, 2275)\t0.3015319428478688\n",
      "  (3265, 3962)\t0.2307605723434392\n",
      "  (3265, 3098)\t0.36676472031332924\n",
      "  (3265, 1632)\t0.14085054058333127\n",
      "  (3265, 2613)\t0.22110362918392784\n",
      "  (3266, 3424)\t0.5590824508810149\n",
      "  (3266, 1858)\t0.4998193042494591\n",
      "  (3266, 731)\t0.5590824508810149\n",
      "  (3266, 4133)\t0.24383292509353618\n",
      "  (3266, 3098)\t0.20309337423135537\n",
      "  (3266, 1632)\t0.1559899846688694\n"
     ]
    }
   ],
   "source": [
    "print(X_train_tfidf)"
   ]
  },
  {
   "cell_type": "code",
   "execution_count": 37,
   "id": "1961d291",
   "metadata": {},
   "outputs": [
    {
     "data": {
      "text/plain": [
       "GaussianNB()"
      ]
     },
     "execution_count": 37,
     "metadata": {},
     "output_type": "execute_result"
    }
   ],
   "source": [
    "from sklearn.naive_bayes import GaussianNB\n",
    "gnb = GaussianNB()\n",
    "gnb.fit(X_train_tfidf.toarray(),Y_train)"
   ]
  },
  {
   "cell_type": "code",
   "execution_count": 38,
   "id": "f588922f",
   "metadata": {},
   "outputs": [],
   "source": [
    "pred = gnb.predict(X_test_tfid.toarray())"
   ]
  },
  {
   "cell_type": "code",
   "execution_count": 39,
   "id": "6f24848a",
   "metadata": {},
   "outputs": [],
   "source": [
    "from sklearn.metrics import accuracy_score,classification_report,confusion_matrix"
   ]
  },
  {
   "cell_type": "code",
   "execution_count": 40,
   "id": "b1f5b6b5",
   "metadata": {},
   "outputs": [],
   "source": [
    "accuray_score_naive_bayes = accuracy_score(pred,Y_test)"
   ]
  },
  {
   "cell_type": "code",
   "execution_count": 41,
   "id": "a0237dd2",
   "metadata": {},
   "outputs": [
    {
     "data": {
      "text/plain": [
       "0.5042839657282742"
      ]
     },
     "execution_count": 41,
     "metadata": {},
     "output_type": "execute_result"
    }
   ],
   "source": [
    "accuray_score_naive_bayes"
   ]
  },
  {
   "cell_type": "code",
   "execution_count": 42,
   "id": "7e80ebd9",
   "metadata": {},
   "outputs": [],
   "source": [
    "confusion_matrix_naive_bayes = confusion_matrix(pred,Y_test)"
   ]
  },
  {
   "cell_type": "code",
   "execution_count": 43,
   "id": "53cf5dbd",
   "metadata": {},
   "outputs": [
    {
     "data": {
      "text/plain": [
       "<function sklearn.metrics._classification.confusion_matrix(y_true, y_pred, *, labels=None, sample_weight=None, normalize=None)>"
      ]
     },
     "execution_count": 43,
     "metadata": {},
     "output_type": "execute_result"
    }
   ],
   "source": [
    "confusion_matrix"
   ]
  },
  {
   "cell_type": "code",
   "execution_count": 44,
   "id": "50b01dca",
   "metadata": {},
   "outputs": [
    {
     "name": "stdout",
     "output_type": "stream",
     "text": [
      "[[ 36 184  23]\n",
      " [ 42 301  29]\n",
      " [ 15 112  75]]\n"
     ]
    }
   ],
   "source": [
    "print(confusion_matrix_naive_bayes)"
   ]
  },
  {
   "cell_type": "markdown",
   "id": "b67cff5d",
   "metadata": {},
   "source": [
    "## using XGB-Classifier"
   ]
  },
  {
   "cell_type": "code",
   "execution_count": 45,
   "id": "236c79d6",
   "metadata": {},
   "outputs": [],
   "source": [
    "from xgboost import XGBClassifier"
   ]
  },
  {
   "cell_type": "code",
   "execution_count": 48,
   "id": "f910327e",
   "metadata": {},
   "outputs": [
    {
     "data": {
      "text/plain": [
       "XGBClassifier(base_score=0.5, booster='gbtree', callbacks=None,\n",
       "              colsample_bylevel=1, colsample_bynode=1, colsample_bytree=1,\n",
       "              early_stopping_rounds=None, enable_categorical=False,\n",
       "              eval_metric=None, gamma=0, gpu_id=-1, grow_policy='depthwise',\n",
       "              importance_type=None, interaction_constraints='',\n",
       "              learning_rate=0.300000012, max_bin=256, max_cat_to_onehot=4,\n",
       "              max_delta_step=0, max_depth=6, max_leaves=0, min_child_weight=1,\n",
       "              missing=nan, monotone_constraints='()', n_estimators=100,\n",
       "              n_jobs=0, num_parallel_tree=1, objective='multi:softmax',\n",
       "              predictor='auto', random_state=0, reg_alpha=0, ...)"
      ]
     },
     "execution_count": 48,
     "metadata": {},
     "output_type": "execute_result"
    }
   ],
   "source": [
    "xgb = XGBClassifier(objective='multi:softmax')\n",
    "xgb.fit(X_train_tfidf,Y_train)"
   ]
  },
  {
   "cell_type": "code",
   "execution_count": 49,
   "id": "5107dfba",
   "metadata": {},
   "outputs": [],
   "source": [
    "pred_xbg = xgb.predict(X_test_tfid)"
   ]
  },
  {
   "cell_type": "code",
   "execution_count": 51,
   "id": "1fe3954a",
   "metadata": {},
   "outputs": [],
   "source": [
    "pred_acc_xgb = accuracy_score(pred_xbg,Y_test)"
   ]
  },
  {
   "cell_type": "code",
   "execution_count": 52,
   "id": "e2ea91fb",
   "metadata": {},
   "outputs": [
    {
     "name": "stdout",
     "output_type": "stream",
     "text": [
      "0.8849449204406364\n"
     ]
    }
   ],
   "source": [
    "print(pred_acc_xgb)"
   ]
  },
  {
   "cell_type": "code",
   "execution_count": 53,
   "id": "6cf5fa61",
   "metadata": {},
   "outputs": [],
   "source": [
    "confusion_matrix_for_xgb = confusion_matrix(pred_xbg,Y_test)"
   ]
  },
  {
   "cell_type": "code",
   "execution_count": 54,
   "id": "3ed8cc0b",
   "metadata": {},
   "outputs": [
    {
     "name": "stdout",
     "output_type": "stream",
     "text": [
      "[[ 52  13   3]\n",
      " [ 29 567  20]\n",
      " [ 12  17 104]]\n"
     ]
    }
   ],
   "source": [
    "print(confusion_matrix_for_xgb)"
   ]
  },
  {
   "cell_type": "code",
   "execution_count": 55,
   "id": "c4876f49",
   "metadata": {},
   "outputs": [],
   "source": [
    "classification_report_for_xgb = classification_report(pred_xbg,Y_test)"
   ]
  },
  {
   "cell_type": "code",
   "execution_count": 56,
   "id": "7fc79a71",
   "metadata": {},
   "outputs": [
    {
     "name": "stdout",
     "output_type": "stream",
     "text": [
      "              precision    recall  f1-score   support\n",
      "\n",
      "           0       0.56      0.76      0.65        68\n",
      "           1       0.95      0.92      0.93       616\n",
      "           2       0.82      0.78      0.80       133\n",
      "\n",
      "    accuracy                           0.88       817\n",
      "   macro avg       0.78      0.82      0.79       817\n",
      "weighted avg       0.90      0.88      0.89       817\n",
      "\n"
     ]
    }
   ],
   "source": [
    "print(classification_report_for_xgb)"
   ]
  },
  {
   "cell_type": "code",
   "execution_count": 71,
   "id": "3c82336c",
   "metadata": {},
   "outputs": [],
   "source": [
    "#Using Logistic_Regression\n",
    "from sklearn.linear_model import LogisticRegression\n"
   ]
  },
  {
   "cell_type": "code",
   "execution_count": 72,
   "id": "df8dc9fa",
   "metadata": {},
   "outputs": [
    {
     "data": {
      "text/plain": [
       "LogisticRegression(max_iter=1000, solver='saga')"
      ]
     },
     "execution_count": 72,
     "metadata": {},
     "output_type": "execute_result"
    }
   ],
   "source": [
    "lg = LogisticRegression(max_iter=1000,solver='saga')\n",
    "lg.fit(X_train_tfidf,Y_train)"
   ]
  },
  {
   "cell_type": "code",
   "execution_count": 73,
   "id": "fd3018a7",
   "metadata": {},
   "outputs": [],
   "source": [
    "pred_lg = lg.predict(X_test_tfid)"
   ]
  },
  {
   "cell_type": "code",
   "execution_count": 74,
   "id": "44fe6338",
   "metadata": {},
   "outputs": [],
   "source": [
    "accuracy_score_using_lg = accuracy_score(pred_lg,Y_test)"
   ]
  },
  {
   "cell_type": "code",
   "execution_count": 75,
   "id": "eafce3f3",
   "metadata": {},
   "outputs": [
    {
     "name": "stdout",
     "output_type": "stream",
     "text": [
      "0.795593635250918\n"
     ]
    }
   ],
   "source": [
    "print(accuracy_score_using_lg)"
   ]
  },
  {
   "cell_type": "code",
   "execution_count": 76,
   "id": "b65cb34f",
   "metadata": {},
   "outputs": [
    {
     "name": "stdout",
     "output_type": "stream",
     "text": [
      "  (0, 1296)\t0.6928461823929611\n",
      "  (0, 2868)\t0.6117816272655955\n",
      "  (0, 186)\t0.3816901990931382\n",
      "  (1, 2253)\t1.0\n",
      "  (2, 2528)\t0.647358579607781\n",
      "  (2, 2613)\t0.5403712753015455\n",
      "  (2, 2253)\t0.5375181431702353\n",
      "  (3, 3962)\t0.21946471760604835\n",
      "  (3, 1014)\t0.38344090359772404\n",
      "  (3, 2775)\t0.39684377478628324\n",
      "  (3, 2617)\t0.42921800486310074\n",
      "  (3, 3098)\t0.17440569451273202\n",
      "  (3, 1632)\t0.13395583049505685\n",
      "  (3, 3555)\t0.48011001592158187\n",
      "  (3, 3050)\t0.42921800486310074\n",
      "  (4, 927)\t0.5227149464368135\n",
      "  (4, 3537)\t0.4571057073006847\n",
      "  (4, 488)\t0.40747423385679893\n",
      "  (4, 1055)\t0.26162721302708\n",
      "  (4, 879)\t0.3738205261051559\n",
      "  (4, 128)\t0.19108617404013853\n",
      "  (4, 4260)\t0.3272364521632086\n",
      "  (5, 1632)\t1.0\n",
      "  (6, 2586)\t0.11899575465058125\n",
      "  (6, 3813)\t0.2005265298566465\n",
      "  :\t:\n",
      "  (3264, 503)\t0.169109696883353\n",
      "  (3264, 2967)\t0.19248895759744247\n",
      "  (3264, 1797)\t0.17912358048542545\n",
      "  (3264, 324)\t0.20998255565416482\n",
      "  (3264, 2275)\t0.21056670807279998\n",
      "  (3264, 1055)\t0.1611454282834255\n",
      "  (3264, 128)\t0.11769671433816821\n",
      "  (3265, 3148)\t0.3789885930315603\n",
      "  (3265, 1325)\t0.30411007170593585\n",
      "  (3265, 3169)\t0.2663096019322808\n",
      "  (3265, 3847)\t0.30771993344674303\n",
      "  (3265, 3616)\t0.30865558592150044\n",
      "  (3265, 3655)\t0.1789991574848289\n",
      "  (3265, 608)\t0.35149591181552936\n",
      "  (3265, 2275)\t0.3015319428478688\n",
      "  (3265, 3962)\t0.2307605723434392\n",
      "  (3265, 3098)\t0.36676472031332924\n",
      "  (3265, 1632)\t0.14085054058333127\n",
      "  (3265, 2613)\t0.22110362918392784\n",
      "  (3266, 3424)\t0.5590824508810149\n",
      "  (3266, 1858)\t0.4998193042494591\n",
      "  (3266, 731)\t0.5590824508810149\n",
      "  (3266, 4133)\t0.24383292509353618\n",
      "  (3266, 3098)\t0.20309337423135537\n",
      "  (3266, 1632)\t0.1559899846688694\n"
     ]
    }
   ],
   "source": [
    "print(X_train_tfidf)"
   ]
  },
  {
   "cell_type": "code",
   "execution_count": null,
   "id": "72b44837",
   "metadata": {},
   "outputs": [],
   "source": []
  }
 ],
 "metadata": {
  "kernelspec": {
   "display_name": "Python 3 (ipykernel)",
   "language": "python",
   "name": "python3"
  },
  "language_info": {
   "codemirror_mode": {
    "name": "ipython",
    "version": 3
   },
   "file_extension": ".py",
   "mimetype": "text/x-python",
   "name": "python",
   "nbconvert_exporter": "python",
   "pygments_lexer": "ipython3",
   "version": "3.9.7"
  }
 },
 "nbformat": 4,
 "nbformat_minor": 5
}
